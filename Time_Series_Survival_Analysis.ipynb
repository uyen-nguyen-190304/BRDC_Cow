{
 "cells": [
  {
   "cell_type": "markdown",
   "metadata": {},
   "source": [
    "# Import Library"
   ]
  },
  {
   "cell_type": "code",
   "execution_count": null,
   "metadata": {},
   "outputs": [],
   "source": [
    "!pip install pandas numpy matplotlib seaborn statsmodels lifelines\n",
    "!pip install --upgrade openpyxl"
   ]
  },
  {
   "cell_type": "code",
   "execution_count": 2,
   "metadata": {},
   "outputs": [],
   "source": [
    "import pandas as pd\n",
    "import numpy as np\n",
    "import matplotlib.pyplot as plt\n",
    "import seaborn as sns\n",
    "from statsmodels.tsa.seasonal import STL\n",
    "from statsmodels.tsa.holtwinters import ExponentialSmoothing\n",
    "from lifelines import KaplanMeierFitter"
   ]
  },
  {
   "cell_type": "markdown",
   "metadata": {},
   "source": [
    "## Load the data for inflation\n",
    "https://data.bls.gov/timeseries/CUUR0000SA0L1E?output_view=pct_12mths"
   ]
  },
  {
   "cell_type": "code",
   "execution_count": 3,
   "metadata": {},
   "outputs": [
    {
     "name": "stderr",
     "output_type": "stream",
     "text": [
      "/Library/Frameworks/Python.framework/Versions/3.11/lib/python3.11/site-packages/openpyxl/styles/stylesheet.py:237: UserWarning: Workbook contains no default style, apply openpyxl's default\n",
      "  warn(\"Workbook contains no default style, apply openpyxl's default\")\n"
     ]
    }
   ],
   "source": [
    "cpi_df = pd.read_excel('./SeriesReport-20250410235943_836898.xlsx', skiprows= 11)"
   ]
  },
  {
   "cell_type": "code",
   "execution_count": 4,
   "metadata": {},
   "outputs": [],
   "source": [
    "# Calculate annual average inflation rate\n",
    "cpi_df['Inflation_Rate'] = (cpi_df['HALF1'] + cpi_df['HALF2']) / 2\n",
    "\n",
    "# Initialize CPI Index with 2024 as base (100)\n",
    "cpi_index = [None] * len(cpi_df)\n",
    "base_year_idx = cpi_df[cpi_df['Year'] == 2024].index[0]\n",
    "cpi_index[base_year_idx] = 100.0\n",
    "\n",
    "# Backward calculation (2023 → 2015)\n",
    "for i in range(base_year_idx - 1, -1, -1):\n",
    "    cpi_index[i] = cpi_index[i + 1] / (1 + cpi_df.loc[i, 'Inflation_Rate'] / 100)\n",
    "\n",
    "\n",
    "# Forward calculation (2025)\n",
    "if 2025 in cpi_df['Year'].values:\n",
    "    jan_2025_inflation = cpi_df.loc[cpi_df['Year'] == 2025, 'Jan'].values[0]\n",
    "    cpi_index[base_year_idx + 1] = cpi_index[base_year_idx] * (1 + jan_2025_inflation / 100)\n",
    "\n",
    "cpi_df['CPI_Index'] = cpi_index\n",
    "\n",
    "cpi_df = cpi_df[['Year', 'CPI_Index']]"
   ]
  },
  {
   "cell_type": "markdown",
   "metadata": {},
   "source": [
    "## Load the data"
   ]
  },
  {
   "cell_type": "code",
   "execution_count": 5,
   "metadata": {},
   "outputs": [],
   "source": [
    "df_rfm = pd.read_excel('./output.xlsx')\n",
    "df_rfm = df_rfm.rename(columns={'id': 'ID'})"
   ]
  },
  {
   "cell_type": "code",
   "execution_count": 6,
   "metadata": {},
   "outputs": [],
   "source": [
    "df_transactions = pd.read_excel('./data/all_transactions.xlsx')\n",
    "df_transactions = df_transactions.rename(columns={'Revenue Amount': 'Revenue', 'Account Number': 'ID'})"
   ]
  },
  {
   "cell_type": "code",
   "execution_count": 7,
   "metadata": {},
   "outputs": [],
   "source": [
    "df = df_transactions.merge(df_rfm, on='ID', how='inner')\n",
    "df = df[(df['Type'] != 'Soft Credit') & (df['Revenue'] > 0) & (df['Date'] >= '2015-01-01' ) & (df['Date'] <= '2025-02-01')]\n",
    "df['Year'] = df['Date'].dt.year"
   ]
  },
  {
   "cell_type": "code",
   "execution_count": 8,
   "metadata": {},
   "outputs": [],
   "source": [
    "# Merge CPI Index with revenue data\n",
    "df = df.merge(cpi_df, on='Year', how='left')\n",
    "\n",
    "# Delete Year column\n",
    "df = df.drop(columns=['Year'])\n",
    "\n",
    "# Calculate inflation-adjusted revenue (2024 dollars)\n",
    "df['Real_Revenue'] = (df['Revenue'] / df['CPI_Index']) * 100"
   ]
  },
  {
   "cell_type": "code",
   "execution_count": 9,
   "metadata": {},
   "outputs": [
    {
     "data": {
      "text/plain": [
       "ID                  2523\n",
       "Date                2019\n",
       "Revenue              528\n",
       "Type                   3\n",
       "Fund                   6\n",
       "Campaign              28\n",
       "Appeal                34\n",
       "Primary City         455\n",
       "Primary State         49\n",
       "Primary ZIP Code    1293\n",
       "Monetary             840\n",
       "Recency              790\n",
       "Frequency             59\n",
       "Cluster                3\n",
       "R                      4\n",
       "F                      3\n",
       "M                      4\n",
       "RFM_Segment           46\n",
       "RFM_Score             10\n",
       "Segment                5\n",
       "CPI_Index             11\n",
       "Real_Revenue         987\n",
       "dtype: int64"
      ]
     },
     "execution_count": 9,
     "metadata": {},
     "output_type": "execute_result"
    }
   ],
   "source": [
    "df.nunique()"
   ]
  },
  {
   "cell_type": "markdown",
   "metadata": {},
   "source": [
    "## Time Series\n"
   ]
  },
  {
   "cell_type": "code",
   "execution_count": 10,
   "metadata": {},
   "outputs": [
    {
     "data": {
      "application/vnd.microsoft.datawrangler.viewer.v0+json": {
       "columns": [
        {
         "name": "index",
         "rawType": "int64",
         "type": "integer"
        },
        {
         "name": "ID",
         "rawType": "int64",
         "type": "integer"
        },
        {
         "name": "Date",
         "rawType": "datetime64[ns]",
         "type": "datetime"
        },
        {
         "name": "Revenue",
         "rawType": "float64",
         "type": "float"
        },
        {
         "name": "Type",
         "rawType": "object",
         "type": "string"
        },
        {
         "name": "Fund",
         "rawType": "object",
         "type": "string"
        },
        {
         "name": "Campaign",
         "rawType": "object",
         "type": "unknown"
        },
        {
         "name": "Appeal",
         "rawType": "object",
         "type": "unknown"
        },
        {
         "name": "Primary City",
         "rawType": "object",
         "type": "unknown"
        },
        {
         "name": "Primary State",
         "rawType": "object",
         "type": "unknown"
        },
        {
         "name": "Primary ZIP Code",
         "rawType": "object",
         "type": "unknown"
        },
        {
         "name": "Monetary",
         "rawType": "float64",
         "type": "float"
        },
        {
         "name": "Recency",
         "rawType": "int64",
         "type": "integer"
        },
        {
         "name": "Frequency",
         "rawType": "int64",
         "type": "integer"
        },
        {
         "name": "Cluster",
         "rawType": "int64",
         "type": "integer"
        },
        {
         "name": "R",
         "rawType": "int64",
         "type": "integer"
        },
        {
         "name": "F",
         "rawType": "int64",
         "type": "integer"
        },
        {
         "name": "M",
         "rawType": "int64",
         "type": "integer"
        },
        {
         "name": "RFM_Segment",
         "rawType": "int64",
         "type": "integer"
        },
        {
         "name": "RFM_Score",
         "rawType": "int64",
         "type": "integer"
        },
        {
         "name": "Segment",
         "rawType": "object",
         "type": "string"
        },
        {
         "name": "CPI_Index",
         "rawType": "float64",
         "type": "float"
        },
        {
         "name": "Real_Revenue",
         "rawType": "float64",
         "type": "float"
        },
        {
         "name": "Year_Month",
         "rawType": "period[M]",
         "type": "unknown"
        }
       ],
       "conversionMethod": "pd.DataFrame",
       "ref": "94272361-4a96-447d-9c5a-0e6f17c22362",
       "rows": [
        [
         "0",
         "9736",
         "2025-02-01 00:00:00",
         "73.1",
         "Recurring Donation Payment",
         "Unrestricted",
         "Sam's Fans 2024",
         "Donation Form Ask",
         "Columbus",
         "OH",
         "43220",
         "3685.51",
         "18",
         "49",
         "0",
         "4",
         "4",
         "4",
         "444",
         "12",
         "Loyal",
         "103.3",
         "70.7647628267183",
         "2025-02"
        ],
        [
         "1",
         "2544",
         "2025-02-01 00:00:00",
         "51.43",
         "Recurring Donation Payment",
         "Unrestricted",
         null,
         null,
         "Columbus",
         "OH",
         "43235",
         "11523.44",
         "18",
         "99",
         "0",
         "4",
         "4",
         "4",
         "444",
         "12",
         "Loyal",
         "103.3",
         "49.787028073572124",
         "2025-02"
        ],
        [
         "2",
         "5",
         "2025-02-01 00:00:00",
         "51.43",
         "Recurring Donation Payment",
         "Unrestricted",
         null,
         null,
         "Columbus",
         "OH",
         "43235",
         "9865.07",
         "18",
         "92",
         "0",
         "4",
         "4",
         "4",
         "444",
         "12",
         "Loyal",
         "103.3",
         "49.787028073572124",
         "2025-02"
        ],
        [
         "3",
         "91",
         "2025-02-01 00:00:00",
         "5.0",
         "Recurring Donation Payment",
         "Unrestricted",
         null,
         null,
         "Goodyear",
         "AZ",
         "85395",
         "913.29",
         "18",
         "77",
         "0",
         "4",
         "4",
         "4",
         "444",
         "12",
         "Loyal",
         "103.3",
         "4.84027105517909",
         "2025-02"
        ],
        [
         "4",
         "2264",
         "2025-02-01 00:00:00",
         "15.64",
         "Recurring Donation Payment",
         "Unrestricted",
         null,
         null,
         "Uniontown",
         "OH",
         "44685-7583",
         "1126.08",
         "18",
         "72",
         "0",
         "4",
         "4",
         "4",
         "444",
         "12",
         "Loyal",
         "103.3",
         "15.140367860600195",
         "2025-02"
        ],
        [
         "5",
         "8001",
         "2025-02-01 00:00:00",
         "20.0",
         "Recurring Donation Payment",
         "Unrestricted",
         null,
         null,
         "Oak Island",
         "NC",
         "28461",
         "4138.46",
         "18",
         "100",
         "0",
         "4",
         "4",
         "4",
         "444",
         "12",
         "Loyal",
         "103.3",
         "19.36108422071636",
         "2025-02"
        ],
        [
         "6",
         "10443",
         "2025-01-30 00:00:00",
         "50.0",
         "Recurring Donation Payment",
         "Unrestricted",
         "Sam's Fans 2024",
         "BTJ Website",
         "DUBLIN",
         "OH",
         "43016",
         "2520.42",
         "20",
         "49",
         "0",
         "4",
         "4",
         "4",
         "444",
         "12",
         "Loyal",
         "103.3",
         "48.4027105517909",
         "2025-01"
        ],
        [
         "7",
         "9735",
         "2025-01-30 00:00:00",
         "24.23",
         "Recurring Donation Payment",
         "Unrestricted",
         "Sam's Fans 2024",
         "BTJ Website",
         "Columbus",
         "OH",
         "43235",
         "1341.32",
         "20",
         "48",
         "0",
         "4",
         "4",
         "4",
         "444",
         "12",
         "Loyal",
         "103.3",
         "23.45595353339787",
         "2025-01"
        ],
        [
         "8",
         "9722",
         "2025-01-29 00:00:00",
         "26.31",
         "Donation",
         "Unrestricted",
         "2025 Celebrating A Decade of Hope and Healing",
         null,
         "Saint James City",
         "FL",
         "33956",
         "593.8599999999999",
         "21",
         "3",
         "0",
         "4",
         "4",
         "4",
         "444",
         "12",
         "Loyal",
         "103.3",
         "25.469506292352374",
         "2025-01"
        ],
        [
         "9",
         "825",
         "2025-01-29 00:00:00",
         "52.3",
         "Recurring Donation Payment",
         "Unrestricted",
         "2025 Celebrating A Decade of Hope and Healing",
         null,
         "Saint James City",
         "FL",
         "33956",
         "6912.5",
         "21",
         "80",
         "0",
         "4",
         "4",
         "4",
         "444",
         "12",
         "Loyal",
         "103.3",
         "50.629235237173276",
         "2025-01"
        ],
        [
         "10",
         "250",
         "2025-01-28 00:00:00",
         "25.87",
         "Recurring Donation Payment",
         "Unrestricted",
         null,
         null,
         "Columbus",
         "OH",
         "43235",
         "3413.2",
         "22",
         "87",
         "0",
         "4",
         "4",
         "4",
         "444",
         "12",
         "Loyal",
         "103.3",
         "25.043562439496615",
         "2025-01"
        ],
        [
         "11",
         "8202",
         "2025-01-27 00:00:00",
         "50.0",
         "Donation",
         "Unrestricted",
         "2025 Celebrating A Decade of Hope and Healing",
         null,
         "Dublin",
         "OH",
         "43016",
         "205.3",
         "23",
         "6",
         "0",
         "4",
         "4",
         "3",
         "443",
         "11",
         "Loyal",
         "103.3",
         "48.4027105517909",
         "2025-01"
        ],
        [
         "12",
         "10827",
         "2025-01-27 00:00:00",
         "330.0",
         "Donation",
         "Unrestricted",
         "2025 Celebrating A Decade of Hope and Healing",
         null,
         "Grove City",
         "OH",
         "43123",
         "330.0",
         "23",
         "1",
         "1",
         "4",
         "1",
         "3",
         "413",
         "8",
         "Potential",
         "103.3",
         "319.45788964182",
         "2025-01"
        ],
        [
         "13",
         "1707",
         "2025-01-27 00:00:00",
         "5000.0",
         "Donation",
         "Unrestricted",
         "2025 Celebrating A Decade of Hope and Healing",
         null,
         "NEW ALBANY",
         "OH",
         "43054",
         "24945.0",
         "23",
         "14",
         "0",
         "4",
         "4",
         "4",
         "444",
         "12",
         "Loyal",
         "103.3",
         "4840.271055179091",
         "2025-01"
        ],
        [
         "14",
         "10825",
         "2025-01-26 00:00:00",
         "26.31",
         "Donation",
         "Unrestricted",
         "2025 Celebrating A Decade of Hope and Healing",
         null,
         "Columbus",
         "OH",
         "43220",
         "26.31",
         "24",
         "1",
         "1",
         "4",
         "1",
         "1",
         "411",
         "6",
         "At Risk",
         "103.3",
         "25.469506292352374",
         "2025-01"
        ],
        [
         "15",
         "1334",
         "2025-01-26 00:00:00",
         "204.81",
         "Recurring Donation Payment",
         "Unrestricted",
         null,
         null,
         "Columbus",
         "OH",
         "43085-7216",
         "34836.7",
         "24",
         "75",
         "0",
         "4",
         "4",
         "4",
         "444",
         "12",
         "Loyal",
         "103.3",
         "198.2671829622459",
         "2025-01"
        ],
        [
         "16",
         "8677",
         "2025-01-25 00:00:00",
         "27.35",
         "Recurring Donation Payment",
         "Unrestricted",
         "Sam's Fans 2024",
         null,
         "Mount Vernon",
         "OH",
         "43050",
         "1533.77",
         "25",
         "52",
         "0",
         "4",
         "4",
         "4",
         "444",
         "12",
         "Loyal",
         "103.3",
         "26.476282671829626",
         "2025-01"
        ],
        [
         "17",
         "726",
         "2025-01-25 00:00:00",
         "24.23",
         "Recurring Donation Payment",
         "Unrestricted",
         "Sam's Fans 2024",
         "BTJ Website",
         "Columbus",
         "OH",
         "43220",
         "11164.14",
         "25",
         "63",
         "0",
         "4",
         "4",
         "4",
         "444",
         "12",
         "Loyal",
         "103.3",
         "23.45595353339787",
         "2025-01"
        ],
        [
         "18",
         "8225",
         "2025-01-24 00:00:00",
         "26.31",
         "Recurring Donation Payment",
         "Unrestricted",
         "Sam's Fans 2024",
         null,
         "Dublin",
         "OH",
         "43016",
         "2681.23",
         "26",
         "68",
         "0",
         "4",
         "4",
         "4",
         "444",
         "12",
         "Loyal",
         "103.3",
         "25.469506292352374",
         "2025-01"
        ],
        [
         "19",
         "2041",
         "2025-01-24 00:00:00",
         "104.3",
         "Recurring Donation Payment",
         "Unrestricted",
         "Sam's Fans 2024",
         "BTJ Website",
         "Columbus",
         "OH",
         "43221",
         "7563.58",
         "26",
         "49",
         "0",
         "4",
         "4",
         "4",
         "444",
         "12",
         "Loyal",
         "103.3",
         "100.9680542110358",
         "2025-01"
        ],
        [
         "20",
         "268",
         "2025-01-24 00:00:00",
         "52.3",
         "Recurring Donation Payment",
         "Unrestricted",
         "Sam's Fans 2024",
         "BTJ Website",
         "Tavares",
         "FL",
         "32778",
         "3323.01",
         "26",
         "65",
         "0",
         "4",
         "4",
         "4",
         "444",
         "12",
         "Loyal",
         "103.3",
         "50.629235237173276",
         "2025-01"
        ],
        [
         "21",
         "1239",
         "2025-01-24 00:00:00",
         "52.3",
         "Donation",
         "Unrestricted",
         "2025 Celebrating A Decade of Hope and Healing",
         null,
         "Kew Gardens",
         "NY",
         "11415",
         "204.6",
         "26",
         "4",
         "0",
         "4",
         "4",
         "3",
         "443",
         "11",
         "Loyal",
         "103.3",
         "50.629235237173276",
         "2025-01"
        ],
        [
         "22",
         "9677",
         "2025-01-23 00:00:00",
         "24.23",
         "Recurring Donation Payment",
         "Unrestricted",
         "Sam's Fans 2024",
         "BTJ Website",
         "Sewickley",
         "PA",
         "15143",
         "1767.67",
         "27",
         "57",
         "0",
         "4",
         "4",
         "4",
         "444",
         "12",
         "Loyal",
         "103.3",
         "23.45595353339787",
         "2025-01"
        ],
        [
         "23",
         "535",
         "2025-01-22 00:00:00",
         "26.31",
         "Recurring Donation Payment",
         "Unrestricted",
         "Sam's Fans 2024",
         null,
         "Columbus",
         "OH",
         "43214",
         "1322.69",
         "28",
         "61",
         "0",
         "4",
         "4",
         "4",
         "444",
         "12",
         "Loyal",
         "103.3",
         "25.469506292352374",
         "2025-01"
        ],
        [
         "24",
         "163",
         "2025-01-20 00:00:00",
         "22.8",
         "Recurring Donation Payment",
         "Unrestricted",
         null,
         null,
         "Powell",
         "OH",
         "43065",
         "3574.63",
         "30",
         "93",
         "0",
         "4",
         "4",
         "4",
         "444",
         "12",
         "Loyal",
         "103.3",
         "22.07163601161665",
         "2025-01"
        ],
        [
         "25",
         "165",
         "2025-01-18 00:00:00",
         "104.3",
         "Recurring Donation Payment",
         "Unrestricted",
         "Sam's Fans 2024",
         "BTJ Website",
         "Beavercreek",
         "OH",
         "45434",
         "5549.099999999999",
         "32",
         "51",
         "0",
         "4",
         "4",
         "4",
         "444",
         "12",
         "Loyal",
         "103.3",
         "100.9680542110358",
         "2025-01"
        ],
        [
         "26",
         "535",
         "2025-01-18 00:00:00",
         "26.31",
         "Recurring Donation Payment",
         "Unrestricted",
         "Sam's Fans 2024",
         "BTJ Website",
         "Columbus",
         "OH",
         "43214",
         "1322.69",
         "28",
         "61",
         "0",
         "4",
         "4",
         "4",
         "444",
         "12",
         "Loyal",
         "103.3",
         "25.469506292352374",
         "2025-01"
        ],
        [
         "27",
         "8231",
         "2025-01-18 00:00:00",
         "20.76",
         "Recurring Donation Payment",
         "Unrestricted",
         null,
         null,
         "Columbus",
         "OH",
         "43214-4014",
         "1327.12",
         "1",
         "63",
         "0",
         "4",
         "4",
         "4",
         "444",
         "12",
         "Loyal",
         "103.3",
         "20.096805421103582",
         "2025-01"
        ],
        [
         "28",
         "10589",
         "2025-01-17 00:00:00",
         "500.0",
         "Donation",
         "Nationwide Childen's Hospital",
         "Sam's Fans 2024",
         null,
         null,
         null,
         null,
         "1000.0",
         "33",
         "3",
         "0",
         "4",
         "4",
         "4",
         "444",
         "12",
         "Loyal",
         "103.3",
         "484.02710551790904",
         "2025-01"
        ],
        [
         "29",
         "2139",
         "2025-01-17 00:00:00",
         "78.3",
         "Recurring Donation Payment",
         "Unrestricted",
         "Sam's Fans 2024",
         null,
         "Galena",
         "OH",
         "43021",
         "9833.67",
         "2",
         "82",
         "0",
         "4",
         "4",
         "4",
         "444",
         "12",
         "Loyal",
         "103.3",
         "75.79864472410455",
         "2025-01"
        ],
        [
         "30",
         "1566",
         "2025-01-15 00:00:00",
         "52.3",
         "Recurring Donation Payment",
         "Unrestricted",
         "Sam's Fans 2024",
         null,
         "Darien",
         "CT",
         "06820-3204",
         "2306.25",
         "4",
         "21",
         "0",
         "4",
         "4",
         "4",
         "444",
         "12",
         "Loyal",
         "103.3",
         "50.629235237173276",
         "2025-01"
        ],
        [
         "31",
         "10382",
         "2025-01-15 00:00:00",
         "21.11",
         "Recurring Donation Payment",
         "Unrestricted",
         "Sam's Fans 2024",
         null,
         "Columbus",
         "OH",
         "43214",
         "422.2",
         "4",
         "20",
         "0",
         "4",
         "4",
         "3",
         "443",
         "11",
         "Loyal",
         "103.3",
         "20.43562439496612",
         "2025-01"
        ],
        [
         "32",
         "9739",
         "2025-01-15 00:00:00",
         "24.23",
         "Recurring Donation Payment",
         "Unrestricted",
         "Sam's Fans 2024",
         "BTJ Website",
         "Dublin",
         "OH",
         "43017",
         "3930.78",
         "4",
         "56",
         "0",
         "4",
         "4",
         "4",
         "444",
         "12",
         "Loyal",
         "103.3",
         "23.45595353339787",
         "2025-01"
        ],
        [
         "33",
         "9068",
         "2025-01-15 00:00:00",
         "15.91",
         "Recurring Donation Payment",
         "Unrestricted",
         "Sam's Fans 2024",
         "Donation Form Ask",
         "columbus",
         "OH",
         "43235",
         "777.79",
         "4",
         "49",
         "0",
         "4",
         "4",
         "4",
         "444",
         "12",
         "Loyal",
         "103.3",
         "15.401742497579866",
         "2025-01"
        ],
        [
         "34",
         "383",
         "2025-01-15 00:00:00",
         "100.0",
         "Recurring Donation Payment",
         "Unrestricted",
         null,
         null,
         "Bremerton",
         "WA",
         "98312",
         "7879.77",
         "4",
         "85",
         "0",
         "4",
         "4",
         "4",
         "444",
         "12",
         "Loyal",
         "103.3",
         "96.8054211035818",
         "2025-01"
        ],
        [
         "35",
         "1104",
         "2025-01-14 00:00:00",
         "100.0",
         "Donation",
         "Unrestricted",
         "Sam's Fans 2024",
         "2024 Year End Campaign",
         "Elsberry",
         "MO",
         "63343",
         "875.0",
         "36",
         "8",
         "0",
         "4",
         "4",
         "4",
         "444",
         "12",
         "Loyal",
         "103.3",
         "96.8054211035818",
         "2025-01"
        ],
        [
         "36",
         "10570",
         "2025-01-14 00:00:00",
         "75.0",
         "Donation",
         "Unrestricted",
         "Sam's Fans 2024",
         "2024 Year End Campaign",
         "Westerville",
         "OH",
         "43082",
         "150.0",
         "36",
         "2",
         "0",
         "4",
         "3",
         "3",
         "433",
         "10",
         "Promising",
         "103.3",
         "72.60406582768636",
         "2025-01"
        ],
        [
         "37",
         "8857",
         "2025-01-14 00:00:00",
         "50.0",
         "Donation",
         "Unrestricted",
         "Sam's Fans 2024",
         "2024 Year End Campaign",
         "Philadelphia",
         "PA",
         "15218",
         "250.0",
         "36",
         "5",
         "0",
         "4",
         "4",
         "3",
         "443",
         "11",
         "Loyal",
         "103.3",
         "48.4027105517909",
         "2025-01"
        ],
        [
         "38",
         "9188",
         "2025-01-14 00:00:00",
         "1000.0",
         "Donation",
         "Unrestricted",
         "Sam's Fans 2024",
         "2024 Year End Campaign",
         "Stoutsville",
         "OH",
         "43154",
         "3000.0",
         "36",
         "3",
         "0",
         "4",
         "4",
         "4",
         "444",
         "12",
         "Loyal",
         "103.3",
         "968.0542110358181",
         "2025-01"
        ],
        [
         "39",
         "181",
         "2025-01-14 00:00:00",
         "250.0",
         "Donation",
         "Unrestricted",
         "Sam's Fans 2024",
         "2024 Year End Campaign",
         "DUBLIN",
         "OH",
         "43017",
         "3620.35",
         "36",
         "14",
         "0",
         "4",
         "4",
         "4",
         "444",
         "12",
         "Loyal",
         "103.3",
         "242.01355275895452",
         "2025-01"
        ],
        [
         "40",
         "551",
         "2025-01-14 00:00:00",
         "1000.0",
         "Donation",
         "Unrestricted",
         "Sam's Fans 2024",
         "2024 Year End Campaign",
         "Saint Louis",
         "MO",
         "63122",
         "5139.28",
         "36",
         "11",
         "0",
         "4",
         "4",
         "4",
         "444",
         "12",
         "Loyal",
         "103.3",
         "968.0542110358181",
         "2025-01"
        ],
        [
         "41",
         "10824",
         "2025-01-14 00:00:00",
         "1000.0",
         "Donation",
         "Unrestricted",
         "Sam's Fans 2024",
         "2024 Year End Campaign",
         "Columbus",
         "OH",
         "43202",
         "1000.0",
         "36",
         "1",
         "1",
         "4",
         "1",
         "4",
         "414",
         "9",
         "Promising",
         "103.3",
         "968.0542110358181",
         "2025-01"
        ],
        [
         "42",
         "1417",
         "2025-01-14 00:00:00",
         "100.0",
         "Donation",
         "Unrestricted",
         "Sam's Fans 2024",
         "2024 Year End Campaign",
         "Fairview Park",
         "OH",
         "44126",
         "801.4300000000001",
         "36",
         "8",
         "0",
         "4",
         "4",
         "4",
         "444",
         "12",
         "Loyal",
         "103.3",
         "96.8054211035818",
         "2025-01"
        ],
        [
         "43",
         "8831",
         "2025-01-14 00:00:00",
         "25.87",
         "Recurring Donation Payment",
         "Unrestricted",
         null,
         null,
         "Columbus",
         "OH",
         "43221",
         "1449.54",
         "5",
         "53",
         "0",
         "4",
         "4",
         "4",
         "444",
         "12",
         "Loyal",
         "103.3",
         "25.043562439496615",
         "2025-01"
        ],
        [
         "44",
         "8575",
         "2025-01-12 00:00:00",
         "26.31",
         "Recurring Donation Payment",
         "Unrestricted",
         "Sam's Fans 2024",
         null,
         "Sammamish",
         "WA",
         "98074",
         "1383.32",
         "7",
         "48",
         "0",
         "4",
         "4",
         "4",
         "444",
         "12",
         "Loyal",
         "103.3",
         "25.469506292352374",
         "2025-01"
        ],
        [
         "45",
         "1231",
         "2025-01-12 00:00:00",
         "20.0",
         "Recurring Donation Payment",
         "Unrestricted",
         "Sam's Fans 2024",
         null,
         "Edgewater",
         "FL",
         "32132-6942",
         "1510.0",
         "7",
         "91",
         "0",
         "4",
         "4",
         "4",
         "444",
         "12",
         "Loyal",
         "103.3",
         "19.36108422071636",
         "2025-01"
        ],
        [
         "46",
         "752",
         "2025-01-12 00:00:00",
         "102.56",
         "Recurring Donation Payment",
         "Unrestricted",
         null,
         null,
         "Columbus",
         "OH",
         "43214",
         "13313.0",
         "7",
         "123",
         "0",
         "4",
         "4",
         "4",
         "444",
         "12",
         "Loyal",
         "103.3",
         "99.2836398838335",
         "2025-01"
        ],
        [
         "47",
         "9765",
         "2025-01-11 00:00:00",
         "26.31",
         "Recurring Donation Payment",
         "Unrestricted",
         "Sam's Fans 2024",
         "Donation Form Ask",
         "Galena",
         "OH",
         "43021",
         "2652.78",
         "8",
         "77",
         "0",
         "4",
         "4",
         "4",
         "444",
         "12",
         "Loyal",
         "103.3",
         "25.469506292352374",
         "2025-01"
        ],
        [
         "48",
         "323",
         "2025-01-11 00:00:00",
         "24.23",
         "Recurring Donation Payment",
         "Unrestricted",
         "Sam's Fans 2024",
         "BTJ Website",
         "Powell",
         "OH",
         "43065",
         "1617.43",
         "8",
         "54",
         "0",
         "4",
         "4",
         "4",
         "444",
         "12",
         "Loyal",
         "103.3",
         "23.45595353339787",
         "2025-01"
        ],
        [
         "49",
         "1351",
         "2025-01-11 00:00:00",
         "52.3",
         "Recurring Donation Payment",
         "Unrestricted",
         "Sam's Fans 2024",
         "BTJ Website",
         "Columbus",
         "OH",
         "43221",
         "5212.25",
         "8",
         "58",
         "0",
         "4",
         "4",
         "4",
         "444",
         "12",
         "Loyal",
         "103.3",
         "50.629235237173276",
         "2025-01"
        ]
       ],
       "shape": {
        "columns": 23,
        "rows": 8937
       }
      },
      "text/html": [
       "<div>\n",
       "<style scoped>\n",
       "    .dataframe tbody tr th:only-of-type {\n",
       "        vertical-align: middle;\n",
       "    }\n",
       "\n",
       "    .dataframe tbody tr th {\n",
       "        vertical-align: top;\n",
       "    }\n",
       "\n",
       "    .dataframe thead th {\n",
       "        text-align: right;\n",
       "    }\n",
       "</style>\n",
       "<table border=\"1\" class=\"dataframe\">\n",
       "  <thead>\n",
       "    <tr style=\"text-align: right;\">\n",
       "      <th></th>\n",
       "      <th>ID</th>\n",
       "      <th>Date</th>\n",
       "      <th>Revenue</th>\n",
       "      <th>Type</th>\n",
       "      <th>Fund</th>\n",
       "      <th>Campaign</th>\n",
       "      <th>Appeal</th>\n",
       "      <th>Primary City</th>\n",
       "      <th>Primary State</th>\n",
       "      <th>Primary ZIP Code</th>\n",
       "      <th>...</th>\n",
       "      <th>Cluster</th>\n",
       "      <th>R</th>\n",
       "      <th>F</th>\n",
       "      <th>M</th>\n",
       "      <th>RFM_Segment</th>\n",
       "      <th>RFM_Score</th>\n",
       "      <th>Segment</th>\n",
       "      <th>CPI_Index</th>\n",
       "      <th>Real_Revenue</th>\n",
       "      <th>Year_Month</th>\n",
       "    </tr>\n",
       "  </thead>\n",
       "  <tbody>\n",
       "    <tr>\n",
       "      <th>0</th>\n",
       "      <td>9736</td>\n",
       "      <td>2025-02-01</td>\n",
       "      <td>73.10</td>\n",
       "      <td>Recurring Donation Payment</td>\n",
       "      <td>Unrestricted</td>\n",
       "      <td>Sam's Fans 2024</td>\n",
       "      <td>Donation Form Ask</td>\n",
       "      <td>Columbus</td>\n",
       "      <td>OH</td>\n",
       "      <td>43220</td>\n",
       "      <td>...</td>\n",
       "      <td>0</td>\n",
       "      <td>4</td>\n",
       "      <td>4</td>\n",
       "      <td>4</td>\n",
       "      <td>444</td>\n",
       "      <td>12</td>\n",
       "      <td>Loyal</td>\n",
       "      <td>103.300000</td>\n",
       "      <td>70.764763</td>\n",
       "      <td>2025-02</td>\n",
       "    </tr>\n",
       "    <tr>\n",
       "      <th>1</th>\n",
       "      <td>2544</td>\n",
       "      <td>2025-02-01</td>\n",
       "      <td>51.43</td>\n",
       "      <td>Recurring Donation Payment</td>\n",
       "      <td>Unrestricted</td>\n",
       "      <td>NaN</td>\n",
       "      <td>NaN</td>\n",
       "      <td>Columbus</td>\n",
       "      <td>OH</td>\n",
       "      <td>43235</td>\n",
       "      <td>...</td>\n",
       "      <td>0</td>\n",
       "      <td>4</td>\n",
       "      <td>4</td>\n",
       "      <td>4</td>\n",
       "      <td>444</td>\n",
       "      <td>12</td>\n",
       "      <td>Loyal</td>\n",
       "      <td>103.300000</td>\n",
       "      <td>49.787028</td>\n",
       "      <td>2025-02</td>\n",
       "    </tr>\n",
       "    <tr>\n",
       "      <th>2</th>\n",
       "      <td>5</td>\n",
       "      <td>2025-02-01</td>\n",
       "      <td>51.43</td>\n",
       "      <td>Recurring Donation Payment</td>\n",
       "      <td>Unrestricted</td>\n",
       "      <td>NaN</td>\n",
       "      <td>NaN</td>\n",
       "      <td>Columbus</td>\n",
       "      <td>OH</td>\n",
       "      <td>43235</td>\n",
       "      <td>...</td>\n",
       "      <td>0</td>\n",
       "      <td>4</td>\n",
       "      <td>4</td>\n",
       "      <td>4</td>\n",
       "      <td>444</td>\n",
       "      <td>12</td>\n",
       "      <td>Loyal</td>\n",
       "      <td>103.300000</td>\n",
       "      <td>49.787028</td>\n",
       "      <td>2025-02</td>\n",
       "    </tr>\n",
       "    <tr>\n",
       "      <th>3</th>\n",
       "      <td>91</td>\n",
       "      <td>2025-02-01</td>\n",
       "      <td>5.00</td>\n",
       "      <td>Recurring Donation Payment</td>\n",
       "      <td>Unrestricted</td>\n",
       "      <td>NaN</td>\n",
       "      <td>NaN</td>\n",
       "      <td>Goodyear</td>\n",
       "      <td>AZ</td>\n",
       "      <td>85395</td>\n",
       "      <td>...</td>\n",
       "      <td>0</td>\n",
       "      <td>4</td>\n",
       "      <td>4</td>\n",
       "      <td>4</td>\n",
       "      <td>444</td>\n",
       "      <td>12</td>\n",
       "      <td>Loyal</td>\n",
       "      <td>103.300000</td>\n",
       "      <td>4.840271</td>\n",
       "      <td>2025-02</td>\n",
       "    </tr>\n",
       "    <tr>\n",
       "      <th>4</th>\n",
       "      <td>2264</td>\n",
       "      <td>2025-02-01</td>\n",
       "      <td>15.64</td>\n",
       "      <td>Recurring Donation Payment</td>\n",
       "      <td>Unrestricted</td>\n",
       "      <td>NaN</td>\n",
       "      <td>NaN</td>\n",
       "      <td>Uniontown</td>\n",
       "      <td>OH</td>\n",
       "      <td>44685-7583</td>\n",
       "      <td>...</td>\n",
       "      <td>0</td>\n",
       "      <td>4</td>\n",
       "      <td>4</td>\n",
       "      <td>4</td>\n",
       "      <td>444</td>\n",
       "      <td>12</td>\n",
       "      <td>Loyal</td>\n",
       "      <td>103.300000</td>\n",
       "      <td>15.140368</td>\n",
       "      <td>2025-02</td>\n",
       "    </tr>\n",
       "    <tr>\n",
       "      <th>...</th>\n",
       "      <td>...</td>\n",
       "      <td>...</td>\n",
       "      <td>...</td>\n",
       "      <td>...</td>\n",
       "      <td>...</td>\n",
       "      <td>...</td>\n",
       "      <td>...</td>\n",
       "      <td>...</td>\n",
       "      <td>...</td>\n",
       "      <td>...</td>\n",
       "      <td>...</td>\n",
       "      <td>...</td>\n",
       "      <td>...</td>\n",
       "      <td>...</td>\n",
       "      <td>...</td>\n",
       "      <td>...</td>\n",
       "      <td>...</td>\n",
       "      <td>...</td>\n",
       "      <td>...</td>\n",
       "      <td>...</td>\n",
       "      <td>...</td>\n",
       "    </tr>\n",
       "    <tr>\n",
       "      <th>8932</th>\n",
       "      <td>296</td>\n",
       "      <td>2015-01-01</td>\n",
       "      <td>100.00</td>\n",
       "      <td>Donation</td>\n",
       "      <td>Unrestricted</td>\n",
       "      <td>NaN</td>\n",
       "      <td>NaN</td>\n",
       "      <td>Columbus</td>\n",
       "      <td>OH</td>\n",
       "      <td>43220-4325</td>\n",
       "      <td>...</td>\n",
       "      <td>2</td>\n",
       "      <td>1</td>\n",
       "      <td>1</td>\n",
       "      <td>2</td>\n",
       "      <td>112</td>\n",
       "      <td>4</td>\n",
       "      <td>Inactive</td>\n",
       "      <td>77.161149</td>\n",
       "      <td>129.598899</td>\n",
       "      <td>2015-01</td>\n",
       "    </tr>\n",
       "    <tr>\n",
       "      <th>8933</th>\n",
       "      <td>163</td>\n",
       "      <td>2015-01-01</td>\n",
       "      <td>50.00</td>\n",
       "      <td>Donation</td>\n",
       "      <td>Unrestricted</td>\n",
       "      <td>NaN</td>\n",
       "      <td>NaN</td>\n",
       "      <td>Powell</td>\n",
       "      <td>OH</td>\n",
       "      <td>43065</td>\n",
       "      <td>...</td>\n",
       "      <td>0</td>\n",
       "      <td>4</td>\n",
       "      <td>4</td>\n",
       "      <td>4</td>\n",
       "      <td>444</td>\n",
       "      <td>12</td>\n",
       "      <td>Loyal</td>\n",
       "      <td>77.161149</td>\n",
       "      <td>64.799449</td>\n",
       "      <td>2015-01</td>\n",
       "    </tr>\n",
       "    <tr>\n",
       "      <th>8934</th>\n",
       "      <td>147</td>\n",
       "      <td>2015-01-01</td>\n",
       "      <td>500.00</td>\n",
       "      <td>Donation</td>\n",
       "      <td>Unrestricted</td>\n",
       "      <td>NaN</td>\n",
       "      <td>NaN</td>\n",
       "      <td>NaN</td>\n",
       "      <td>NaN</td>\n",
       "      <td>NaN</td>\n",
       "      <td>...</td>\n",
       "      <td>2</td>\n",
       "      <td>1</td>\n",
       "      <td>1</td>\n",
       "      <td>4</td>\n",
       "      <td>114</td>\n",
       "      <td>6</td>\n",
       "      <td>At Risk</td>\n",
       "      <td>77.161149</td>\n",
       "      <td>647.994494</td>\n",
       "      <td>2015-01</td>\n",
       "    </tr>\n",
       "    <tr>\n",
       "      <th>8935</th>\n",
       "      <td>8035</td>\n",
       "      <td>2015-01-01</td>\n",
       "      <td>100.00</td>\n",
       "      <td>Donation</td>\n",
       "      <td>Unrestricted</td>\n",
       "      <td>NaN</td>\n",
       "      <td>NaN</td>\n",
       "      <td>Columbus</td>\n",
       "      <td>OH</td>\n",
       "      <td>43221</td>\n",
       "      <td>...</td>\n",
       "      <td>0</td>\n",
       "      <td>2</td>\n",
       "      <td>4</td>\n",
       "      <td>4</td>\n",
       "      <td>244</td>\n",
       "      <td>10</td>\n",
       "      <td>Promising</td>\n",
       "      <td>77.161149</td>\n",
       "      <td>129.598899</td>\n",
       "      <td>2015-01</td>\n",
       "    </tr>\n",
       "    <tr>\n",
       "      <th>8936</th>\n",
       "      <td>54</td>\n",
       "      <td>2015-01-01</td>\n",
       "      <td>500.00</td>\n",
       "      <td>Donation</td>\n",
       "      <td>Unrestricted</td>\n",
       "      <td>NaN</td>\n",
       "      <td>NaN</td>\n",
       "      <td>Upper Arlington</td>\n",
       "      <td>OH</td>\n",
       "      <td>43221</td>\n",
       "      <td>...</td>\n",
       "      <td>0</td>\n",
       "      <td>4</td>\n",
       "      <td>4</td>\n",
       "      <td>4</td>\n",
       "      <td>444</td>\n",
       "      <td>12</td>\n",
       "      <td>Loyal</td>\n",
       "      <td>77.161149</td>\n",
       "      <td>647.994494</td>\n",
       "      <td>2015-01</td>\n",
       "    </tr>\n",
       "  </tbody>\n",
       "</table>\n",
       "<p>8937 rows × 23 columns</p>\n",
       "</div>"
      ],
      "text/plain": [
       "        ID       Date  Revenue                        Type          Fund  \\\n",
       "0     9736 2025-02-01    73.10  Recurring Donation Payment  Unrestricted   \n",
       "1     2544 2025-02-01    51.43  Recurring Donation Payment  Unrestricted   \n",
       "2        5 2025-02-01    51.43  Recurring Donation Payment  Unrestricted   \n",
       "3       91 2025-02-01     5.00  Recurring Donation Payment  Unrestricted   \n",
       "4     2264 2025-02-01    15.64  Recurring Donation Payment  Unrestricted   \n",
       "...    ...        ...      ...                         ...           ...   \n",
       "8932   296 2015-01-01   100.00                    Donation  Unrestricted   \n",
       "8933   163 2015-01-01    50.00                    Donation  Unrestricted   \n",
       "8934   147 2015-01-01   500.00                    Donation  Unrestricted   \n",
       "8935  8035 2015-01-01   100.00                    Donation  Unrestricted   \n",
       "8936    54 2015-01-01   500.00                    Donation  Unrestricted   \n",
       "\n",
       "             Campaign             Appeal     Primary City Primary State  \\\n",
       "0     Sam's Fans 2024  Donation Form Ask         Columbus            OH   \n",
       "1                 NaN                NaN         Columbus            OH   \n",
       "2                 NaN                NaN         Columbus            OH   \n",
       "3                 NaN                NaN         Goodyear            AZ   \n",
       "4                 NaN                NaN        Uniontown            OH   \n",
       "...               ...                ...              ...           ...   \n",
       "8932              NaN                NaN         Columbus            OH   \n",
       "8933              NaN                NaN           Powell            OH   \n",
       "8934              NaN                NaN              NaN           NaN   \n",
       "8935              NaN                NaN         Columbus            OH   \n",
       "8936              NaN                NaN  Upper Arlington            OH   \n",
       "\n",
       "     Primary ZIP Code  ...  Cluster  R  F  M  RFM_Segment  RFM_Score  \\\n",
       "0               43220  ...        0  4  4  4          444         12   \n",
       "1               43235  ...        0  4  4  4          444         12   \n",
       "2               43235  ...        0  4  4  4          444         12   \n",
       "3               85395  ...        0  4  4  4          444         12   \n",
       "4          44685-7583  ...        0  4  4  4          444         12   \n",
       "...               ...  ...      ... .. .. ..          ...        ...   \n",
       "8932       43220-4325  ...        2  1  1  2          112          4   \n",
       "8933            43065  ...        0  4  4  4          444         12   \n",
       "8934              NaN  ...        2  1  1  4          114          6   \n",
       "8935            43221  ...        0  2  4  4          244         10   \n",
       "8936            43221  ...        0  4  4  4          444         12   \n",
       "\n",
       "        Segment   CPI_Index  Real_Revenue Year_Month  \n",
       "0         Loyal  103.300000     70.764763    2025-02  \n",
       "1         Loyal  103.300000     49.787028    2025-02  \n",
       "2         Loyal  103.300000     49.787028    2025-02  \n",
       "3         Loyal  103.300000      4.840271    2025-02  \n",
       "4         Loyal  103.300000     15.140368    2025-02  \n",
       "...         ...         ...           ...        ...  \n",
       "8932   Inactive   77.161149    129.598899    2015-01  \n",
       "8933      Loyal   77.161149     64.799449    2015-01  \n",
       "8934    At Risk   77.161149    647.994494    2015-01  \n",
       "8935  Promising   77.161149    129.598899    2015-01  \n",
       "8936      Loyal   77.161149    647.994494    2015-01  \n",
       "\n",
       "[8937 rows x 23 columns]"
      ]
     },
     "execution_count": 10,
     "metadata": {},
     "output_type": "execute_result"
    }
   ],
   "source": [
    "df['Year_Month'] = df['Date'].dt.to_period('M') \n",
    "df"
   ]
  },
  {
   "cell_type": "markdown",
   "metadata": {},
   "source": [
    "### Loyal Segment"
   ]
  },
  {
   "cell_type": "code",
   "execution_count": 11,
   "metadata": {},
   "outputs": [],
   "source": [
    "df_loyal = df[df['Segment'] == 'Loyal']"
   ]
  },
  {
   "cell_type": "code",
   "execution_count": 12,
   "metadata": {},
   "outputs": [
    {
     "data": {
      "application/vnd.microsoft.datawrangler.viewer.v0+json": {
       "columns": [
        {
         "name": "index",
         "rawType": "int64",
         "type": "integer"
        },
        {
         "name": "Year_Month",
         "rawType": "object",
         "type": "string"
        },
        {
         "name": "Real_Revenue",
         "rawType": "float64",
         "type": "float"
        }
       ],
       "conversionMethod": "pd.DataFrame",
       "ref": "da207d87-5929-4139-a506-f28999a7f635",
       "rows": [
        [
         "0",
         "2015-01",
         "1166.3900887931222"
        ],
        [
         "1",
         "2015-05",
         "1198.7898134818201"
        ],
        [
         "2",
         "2015-06",
         "2883.5754972941077"
        ],
        [
         "3",
         "2015-10",
         "647.9944937739567"
        ],
        [
         "4",
         "2015-11",
         "323.99724688697836"
        ]
       ],
       "shape": {
        "columns": 2,
        "rows": 5
       }
      },
      "text/html": [
       "<div>\n",
       "<style scoped>\n",
       "    .dataframe tbody tr th:only-of-type {\n",
       "        vertical-align: middle;\n",
       "    }\n",
       "\n",
       "    .dataframe tbody tr th {\n",
       "        vertical-align: top;\n",
       "    }\n",
       "\n",
       "    .dataframe thead th {\n",
       "        text-align: right;\n",
       "    }\n",
       "</style>\n",
       "<table border=\"1\" class=\"dataframe\">\n",
       "  <thead>\n",
       "    <tr style=\"text-align: right;\">\n",
       "      <th></th>\n",
       "      <th>Year_Month</th>\n",
       "      <th>Real_Revenue</th>\n",
       "    </tr>\n",
       "  </thead>\n",
       "  <tbody>\n",
       "    <tr>\n",
       "      <th>0</th>\n",
       "      <td>2015-01</td>\n",
       "      <td>1166.390089</td>\n",
       "    </tr>\n",
       "    <tr>\n",
       "      <th>1</th>\n",
       "      <td>2015-05</td>\n",
       "      <td>1198.789813</td>\n",
       "    </tr>\n",
       "    <tr>\n",
       "      <th>2</th>\n",
       "      <td>2015-06</td>\n",
       "      <td>2883.575497</td>\n",
       "    </tr>\n",
       "    <tr>\n",
       "      <th>3</th>\n",
       "      <td>2015-10</td>\n",
       "      <td>647.994494</td>\n",
       "    </tr>\n",
       "    <tr>\n",
       "      <th>4</th>\n",
       "      <td>2015-11</td>\n",
       "      <td>323.997247</td>\n",
       "    </tr>\n",
       "  </tbody>\n",
       "</table>\n",
       "</div>"
      ],
      "text/plain": [
       "  Year_Month  Real_Revenue\n",
       "0    2015-01   1166.390089\n",
       "1    2015-05   1198.789813\n",
       "2    2015-06   2883.575497\n",
       "3    2015-10    647.994494\n",
       "4    2015-11    323.997247"
      ]
     },
     "execution_count": 12,
     "metadata": {},
     "output_type": "execute_result"
    }
   ],
   "source": [
    "month_data = df_loyal.groupby('Year_Month')['Real_Revenue'].sum().reset_index()\n",
    "month_data[\"Year_Month\"] = month_data[\"Year_Month\"].astype(str)\n",
    "month_data.head()"
   ]
  },
  {
   "cell_type": "code",
   "execution_count": 13,
   "metadata": {},
   "outputs": [
    {
     "data": {
      "image/png": "[encoded data removed]",
      "text/plain": [
       "<Figure size 2000x600 with 1 Axes>"
      ]
     },
     "metadata": {},
     "output_type": "display_data"
    }
   ],
   "source": [
    "sns.set_style(\"whitegrid\")  # Minimal style\n",
    "plt.figure(figsize=(20, 6))\n",
    "sns.lineplot(x=\"Year_Month\", y=\"Real_Revenue\", data=month_data, marker=\"o\", color=\"#3d508c\",  markersize=8, linestyle=\"-\", linewidth=2.5,)\n",
    "plt.title(\"\", fontweight=\"bold\", fontsize = 15)\n",
    "plt.xlabel(\"\")\n",
    "plt.ylabel(\"Gift Amount ($)\", fontweight=\"light\")\n",
    "plt.xticks(rotation=45)\n",
    "plt.grid(True, linestyle=\"-\", alpha=0.5)\n",
    "plt.tight_layout()\n",
    "plt.show()"
   ]
  },
  {
   "cell_type": "code",
   "execution_count": 14,
   "metadata": {},
   "outputs": [
    {
     "name": "stderr",
     "output_type": "stream",
     "text": [
      "/var/folders/qh/3cmsk7s53tdbg86r6lqvjyg40000gn/T/ipykernel_2755/377193476.py:2: FutureWarning: 'M' is deprecated and will be removed in a future version, please use 'ME' instead.\n",
      "  df_decomp = df_loyal[['Real_Revenue', 'Date']].resample('M', on='Date').sum().reset_index()\n"
     ]
    },
    {
     "data": {
      "application/vnd.microsoft.datawrangler.viewer.v0+json": {
       "columns": [
        {
         "name": "index",
         "rawType": "int64",
         "type": "integer"
        },
        {
         "name": "Date",
         "rawType": "datetime64[ns]",
         "type": "datetime"
        },
        {
         "name": "Real_Revenue",
         "rawType": "float64",
         "type": "float"
        }
       ],
       "conversionMethod": "pd.DataFrame",
       "ref": "b0403ba2-7ba2-437f-b361-0ba2807279f1",
       "rows": [
        [
         "36",
         "2018-01-31 00:00:00",
         "313.40468052846757"
        ],
        [
         "37",
         "2018-02-28 00:00:00",
         "103.95862573627218"
        ],
        [
         "38",
         "2018-03-31 00:00:00",
         "3870.930005356488"
        ],
        [
         "39",
         "2018-04-30 00:00:00",
         "21230.075865491348"
        ],
        [
         "40",
         "2018-05-31 00:00:00",
         "22350.35847727853"
        ],
        [
         "41",
         "2018-06-30 00:00:00",
         "6018.030309180667"
        ],
        [
         "42",
         "2018-07-31 00:00:00",
         "3185.500209810852"
        ],
        [
         "43",
         "2018-08-31 00:00:00",
         "5844.321560788635"
        ],
        [
         "44",
         "2018-09-30 00:00:00",
         "3849.661293573502"
        ],
        [
         "45",
         "2018-10-31 00:00:00",
         "28505.968854801235"
        ],
        [
         "46",
         "2018-11-30 00:00:00",
         "36205.670585171516"
        ],
        [
         "47",
         "2018-12-31 00:00:00",
         "2842.8770402372134"
        ],
        [
         "48",
         "2019-01-31 00:00:00",
         "700.6244452747619"
        ],
        [
         "49",
         "2019-02-28 00:00:00",
         "3274.4617404319906"
        ],
        [
         "50",
         "2019-03-31 00:00:00",
         "4127.9814839304945"
        ],
        [
         "51",
         "2019-04-30 00:00:00",
         "10926.554131847197"
        ],
        [
         "52",
         "2019-05-31 00:00:00",
         "11416.741007695138"
        ],
        [
         "53",
         "2019-06-30 00:00:00",
         "12670.87756235781"
        ],
        [
         "54",
         "2019-07-31 00:00:00",
         "1100.0798747687872"
        ],
        [
         "55",
         "2019-08-31 00:00:00",
         "47974.65335536491"
        ],
        [
         "56",
         "2019-09-30 00:00:00",
         "15497.548844405464"
        ],
        [
         "57",
         "2019-10-31 00:00:00",
         "41904.805799937625"
        ],
        [
         "58",
         "2019-11-30 00:00:00",
         "11331.26571137413"
        ],
        [
         "59",
         "2019-12-31 00:00:00",
         "22392.073169688265"
        ],
        [
         "60",
         "2020-01-31 00:00:00",
         "4419.527388710357"
        ],
        [
         "61",
         "2020-02-29 00:00:00",
         "3731.1849289002444"
        ],
        [
         "62",
         "2020-03-31 00:00:00",
         "7898.41224247835"
        ],
        [
         "63",
         "2020-04-30 00:00:00",
         "7602.074463853242"
        ],
        [
         "64",
         "2020-05-31 00:00:00",
         "1847.1350550718319"
        ],
        [
         "65",
         "2020-06-30 00:00:00",
         "6330.803552221503"
        ],
        [
         "66",
         "2020-07-31 00:00:00",
         "11549.968474746262"
        ],
        [
         "67",
         "2020-08-31 00:00:00",
         "17218.02743417864"
        ],
        [
         "68",
         "2020-09-30 00:00:00",
         "5914.23194785892"
        ],
        [
         "69",
         "2020-10-31 00:00:00",
         "46125.29448413123"
        ],
        [
         "70",
         "2020-11-30 00:00:00",
         "10914.743053413566"
        ],
        [
         "71",
         "2020-12-31 00:00:00",
         "24251.11461863816"
        ],
        [
         "72",
         "2021-01-31 00:00:00",
         "5307.202050409821"
        ],
        [
         "73",
         "2021-02-28 00:00:00",
         "4047.3899639423807"
        ],
        [
         "74",
         "2021-03-31 00:00:00",
         "11791.610279748422"
        ],
        [
         "75",
         "2021-04-30 00:00:00",
         "16691.254526683442"
        ],
        [
         "76",
         "2021-05-31 00:00:00",
         "12000.066074312583"
        ],
        [
         "77",
         "2021-06-30 00:00:00",
         "36290.92586126723"
        ],
        [
         "78",
         "2021-07-31 00:00:00",
         "13460.604410795522"
        ],
        [
         "79",
         "2021-08-31 00:00:00",
         "7176.749639865522"
        ],
        [
         "80",
         "2021-09-30 00:00:00",
         "6253.673836924801"
        ],
        [
         "81",
         "2021-10-31 00:00:00",
         "73698.23525583443"
        ],
        [
         "82",
         "2021-11-30 00:00:00",
         "34437.44789125323"
        ],
        [
         "83",
         "2021-12-31 00:00:00",
         "42380.40159387518"
        ],
        [
         "84",
         "2022-01-31 00:00:00",
         "4750.35915684"
        ],
        [
         "85",
         "2022-02-28 00:00:00",
         "18898.90192652"
        ]
       ],
       "shape": {
        "columns": 2,
        "rows": 84
       }
      },
      "text/html": [
       "<div>\n",
       "<style scoped>\n",
       "    .dataframe tbody tr th:only-of-type {\n",
       "        vertical-align: middle;\n",
       "    }\n",
       "\n",
       "    .dataframe tbody tr th {\n",
       "        vertical-align: top;\n",
       "    }\n",
       "\n",
       "    .dataframe thead th {\n",
       "        text-align: right;\n",
       "    }\n",
       "</style>\n",
       "<table border=\"1\" class=\"dataframe\">\n",
       "  <thead>\n",
       "    <tr style=\"text-align: right;\">\n",
       "      <th></th>\n",
       "      <th>Date</th>\n",
       "      <th>Real_Revenue</th>\n",
       "    </tr>\n",
       "  </thead>\n",
       "  <tbody>\n",
       "    <tr>\n",
       "      <th>36</th>\n",
       "      <td>2018-01-31</td>\n",
       "      <td>313.404681</td>\n",
       "    </tr>\n",
       "    <tr>\n",
       "      <th>37</th>\n",
       "      <td>2018-02-28</td>\n",
       "      <td>103.958626</td>\n",
       "    </tr>\n",
       "    <tr>\n",
       "      <th>38</th>\n",
       "      <td>2018-03-31</td>\n",
       "      <td>3870.930005</td>\n",
       "    </tr>\n",
       "    <tr>\n",
       "      <th>39</th>\n",
       "      <td>2018-04-30</td>\n",
       "      <td>21230.075865</td>\n",
       "    </tr>\n",
       "    <tr>\n",
       "      <th>40</th>\n",
       "      <td>2018-05-31</td>\n",
       "      <td>22350.358477</td>\n",
       "    </tr>\n",
       "    <tr>\n",
       "      <th>...</th>\n",
       "      <td>...</td>\n",
       "      <td>...</td>\n",
       "    </tr>\n",
       "    <tr>\n",
       "      <th>115</th>\n",
       "      <td>2024-08-31</td>\n",
       "      <td>24240.560000</td>\n",
       "    </tr>\n",
       "    <tr>\n",
       "      <th>116</th>\n",
       "      <td>2024-09-30</td>\n",
       "      <td>55369.910000</td>\n",
       "    </tr>\n",
       "    <tr>\n",
       "      <th>117</th>\n",
       "      <td>2024-10-31</td>\n",
       "      <td>225917.830000</td>\n",
       "    </tr>\n",
       "    <tr>\n",
       "      <th>118</th>\n",
       "      <td>2024-11-30</td>\n",
       "      <td>25546.740000</td>\n",
       "    </tr>\n",
       "    <tr>\n",
       "      <th>119</th>\n",
       "      <td>2024-12-31</td>\n",
       "      <td>111574.350000</td>\n",
       "    </tr>\n",
       "  </tbody>\n",
       "</table>\n",
       "<p>84 rows × 2 columns</p>\n",
       "</div>"
      ],
      "text/plain": [
       "          Date   Real_Revenue\n",
       "36  2018-01-31     313.404681\n",
       "37  2018-02-28     103.958626\n",
       "38  2018-03-31    3870.930005\n",
       "39  2018-04-30   21230.075865\n",
       "40  2018-05-31   22350.358477\n",
       "..         ...            ...\n",
       "115 2024-08-31   24240.560000\n",
       "116 2024-09-30   55369.910000\n",
       "117 2024-10-31  225917.830000\n",
       "118 2024-11-30   25546.740000\n",
       "119 2024-12-31  111574.350000\n",
       "\n",
       "[84 rows x 2 columns]"
      ]
     },
     "execution_count": 14,
     "metadata": {},
     "output_type": "execute_result"
    }
   ],
   "source": [
    "# 3. Group and sum revenue\n",
    "df_decomp = df_loyal[['Real_Revenue', 'Date']].resample('M', on='Date').sum().reset_index()\n",
    "df_decomp = df_decomp[(df_decomp['Date'] > '2018-01-01') & (df_decomp['Date'] < '2025-01-01')]\n",
    "df_decomp"
   ]
  },
  {
   "cell_type": "code",
   "execution_count": 15,
   "metadata": {},
   "outputs": [],
   "source": [
    "# Make sure it's a Series and the index is datetime\n",
    "df_decomp = df_decomp.set_index(\"Date\")\n",
    "\n",
    "# Apply log transformation to handle multiplicative seasonality\n",
    "#df_decomp['Log_Real_Revenue'] = np.log(df_decomp['Real_Revenue'])\n",
    "\n",
    "#df_decomp = df_decomp.astype(float)\n",
    "df_decomp = df_decomp['Real_Revenue']"
   ]
  },
  {
   "cell_type": "code",
   "execution_count": 16,
   "metadata": {},
   "outputs": [
    {
     "data": {
      "image/png": "[encoded data removed]",
      "text/plain": [
       "<Figure size 640x480 with 4 Axes>"
      ]
     },
     "metadata": {},
     "output_type": "display_data"
    }
   ],
   "source": [
    "stl = STL(df_decomp, period=12, robust = True)  # or 12, depending on pattern\n",
    "result = stl.fit()\n",
    "result.plot()\n",
    "plt.show()"
   ]
  },
  {
   "cell_type": "code",
   "execution_count": 19,
   "metadata": {},
   "outputs": [],
   "source": [
    "y = df_decomp.reset_index()"
   ]
  },
  {
   "cell_type": "code",
   "execution_count": 21,
   "metadata": {},
   "outputs": [
    {
     "data": {
      "image/png": "[encoded data removed]",
      "text/plain": [
       "<Figure size 640x480 with 4 Axes>"
      ]
     },
     "metadata": {},
     "output_type": "display_data"
    },
    {
     "name": "stderr",
     "output_type": "stream",
     "text": [
      "/var/folders/qh/3cmsk7s53tdbg86r6lqvjyg40000gn/T/ipykernel_2755/3479501922.py:29: FutureWarning: 'M' is deprecated and will be removed in a future version, please use 'ME' instead.\n",
      "  forecast_index = pd.date_range(y_stl.index[-1] + pd.DateOffset(1), periods=12, freq='M')\n"
     ]
    },
    {
     "data": {
      "image/png": "[encoded data removed]",
      "text/plain": [
       "<Figure size 1200x600 with 1 Axes>"
      ]
     },
     "metadata": {},
     "output_type": "display_data"
    }
   ],
   "source": [
    "# Load/prepare data (assuming y_ets is your DataFrame)\n",
    "y_stl = y[['Date', 'Real_Revenue']].set_index('Date')\n",
    "\n",
    "# Decompose the time series using STL\n",
    "stl = STL(y_stl['Real_Revenue'], period=12, robust=True)  # Adjust period for seasonality\n",
    "result = stl.fit()\n",
    "\n",
    "# Extract components\n",
    "trend = result.trend\n",
    "seasonal = result.seasonal\n",
    "residual = result.resid\n",
    "\n",
    "# Plot STL decomposition\n",
    "result.plot()\n",
    "plt.show()\n",
    "\n",
    "# Forecast the trend (simple linear extrapolation)\n",
    "trend_forecast = np.poly1d(np.polyfit(range(len(trend.dropna())), trend.dropna(), 1))(\n",
    "    range(len(trend), len(trend) + 12)\n",
    ")\n",
    "\n",
    "# Extend the seasonal component (repeat the last 12 months of seasonality)\n",
    "seasonal_forecast = seasonal[-12:].values\n",
    "\n",
    "# Combine trend and seasonal forecasts\n",
    "forecast_2025 = trend_forecast + seasonal_forecast\n",
    "\n",
    "# Create forecast index\n",
    "forecast_index = pd.date_range(y_stl.index[-1] + pd.DateOffset(1), periods=12, freq='M')\n",
    "\n",
    "# Plot the forecast\n",
    "plt.figure(figsize=(12, 6))\n",
    "plt.plot(y_stl.index, y_stl['Real_Revenue'], label='Observed Data', color='blue')\n",
    "plt.plot(forecast_index, forecast_2025, label='2025 Forecast', color='red')\n",
    "plt.title('STL Forecast')\n",
    "plt.xlabel('Year')\n",
    "plt.ylabel('Revenue Amount')\n",
    "plt.legend()\n",
    "plt.grid(True)\n",
    "plt.show()"
   ]
  },
  {
   "cell_type": "code",
   "execution_count": 23,
   "metadata": {},
   "outputs": [
    {
     "name": "stderr",
     "output_type": "stream",
     "text": [
      "/Library/Frameworks/Python.framework/Versions/3.11/lib/python3.11/site-packages/statsmodels/tsa/base/tsa_model.py:473: ValueWarning: No frequency information was provided, so inferred frequency ME will be used.\n",
      "  self._init_dates(dates, freq)\n",
      "/Library/Frameworks/Python.framework/Versions/3.11/lib/python3.11/site-packages/statsmodels/tsa/holtwinters/model.py:918: ConvergenceWarning: Optimization failed to converge. Check mle_retvals.\n",
      "  warnings.warn(\n",
      "/var/folders/qh/3cmsk7s53tdbg86r6lqvjyg40000gn/T/ipykernel_2755/781760281.py:25: FutureWarning: 'M' is deprecated and will be removed in a future version, please use 'ME' instead.\n",
      "  forecast_index = pd.date_range(y_ets.index[-1] + pd.DateOffset(1), periods=12, freq='M')\n"
     ]
    },
    {
     "data": {
      "image/png": "[encoded data removed]",
      "text/plain": [
       "<Figure size 1200x600 with 1 Axes>"
      ]
     },
     "metadata": {},
     "output_type": "display_data"
    }
   ],
   "source": [
    "# Load/prepare data (assuming y_ets is your DataFrame)\n",
    "y_ets = y[['Date', 'Real_Revenue']].set_index('Date')\n",
    "\n",
    "# Fit ETS with seasonality on the entire dataset\n",
    "model = ExponentialSmoothing(\n",
    "    y_ets['Real_Revenue'],\n",
    "    trend='add',\n",
    "    seasonal='mul',\n",
    "    seasonal_periods=12,  # Yearly seasonality\n",
    "    initialization_method='estimated',\n",
    "    damped_trend=True\n",
    ")\n",
    "ets_model = model.fit()\n",
    "\n",
    "# Forecast 2025 (12 months into the future)\n",
    "forecast_2025 = ets_model.forecast(steps=12)  # Forecast for 12 months\n",
    "\n",
    "# Calculate residuals\n",
    "residuals = y_ets['Real_Revenue'] - ets_model.fittedvalues\n",
    "\n",
    "# Estimate the standard deviation of the residuals\n",
    "residual_std = np.std(residuals)\n",
    "\n",
    "# Calculate prediction intervals (95% confidence interval)\n",
    "forecast_index = pd.date_range(y_ets.index[-1] + pd.DateOffset(1), periods=12, freq='M')\n",
    "lower_bound = forecast_2025 - 1.96 * residual_std\n",
    "upper_bound = forecast_2025 + 1.96 * residual_std\n",
    "\n",
    "# Plot\n",
    "plt.figure(figsize=(12, 6))\n",
    "plt.plot(y_ets.index, y_ets['Real_Revenue'], label='Observed Data', color='blue')\n",
    "plt.plot(forecast_index, forecast_2025, label='2025 Forecast', color='red')\n",
    "plt.fill_between(forecast_index, lower_bound, upper_bound, color='pink', alpha=0.3, label='95% Prediction Interval')\n",
    "plt.title('ETS Forecast with Prediction Intervals')\n",
    "plt.xlabel('Year')\n",
    "plt.ylabel('Revenue Amount')\n",
    "plt.legend()\n",
    "plt.legend(loc='upper left')\n",
    "plt.grid(True)\n",
    "plt.show()"
   ]
  },
  {
   "cell_type": "markdown",
   "metadata": {},
   "source": [
    "### At Risk Segement"
   ]
  },
  {
   "cell_type": "code",
   "execution_count": 24,
   "metadata": {},
   "outputs": [],
   "source": [
    "df_risk = df[df['Segment'] == 'At Risk']"
   ]
  },
  {
   "cell_type": "code",
   "execution_count": 25,
   "metadata": {},
   "outputs": [
    {
     "name": "stderr",
     "output_type": "stream",
     "text": [
      "/var/folders/qh/3cmsk7s53tdbg86r6lqvjyg40000gn/T/ipykernel_2755/1022272363.py:2: FutureWarning: 'M' is deprecated and will be removed in a future version, please use 'ME' instead.\n",
      "  df_decomp = df_risk[['Real_Revenue', 'Date']].resample('M', on='Date').sum().reset_index()\n"
     ]
    },
    {
     "data": {
      "application/vnd.microsoft.datawrangler.viewer.v0+json": {
       "columns": [
        {
         "name": "index",
         "rawType": "int64",
         "type": "integer"
        },
        {
         "name": "Date",
         "rawType": "datetime64[ns]",
         "type": "datetime"
        },
        {
         "name": "Real_Revenue",
         "rawType": "float64",
         "type": "float"
        }
       ],
       "conversionMethod": "pd.DataFrame",
       "ref": "61c3b566-1eaf-44b0-aa46-29afca080ffe",
       "rows": [
        [
         "36",
         "2018-01-31 00:00:00",
         "611.5213278604247"
        ],
        [
         "37",
         "2018-02-28 00:00:00",
         "6.115213278604246"
        ],
        [
         "38",
         "2018-03-31 00:00:00",
         "443.96448402666823"
        ],
        [
         "39",
         "2018-04-30 00:00:00",
         "976.3549520619539"
        ],
        [
         "40",
         "2018-05-31 00:00:00",
         "7160.339919197383"
        ],
        [
         "41",
         "2018-06-30 00:00:00",
         "30.57606639302123"
        ],
        [
         "42",
         "2018-07-31 00:00:00",
         "476.98663573113123"
        ],
        [
         "43",
         "2018-08-31 00:00:00",
         "187.95719533118012"
        ],
        [
         "44",
         "2018-09-30 00:00:00",
         "1327.0012814571214"
        ],
        [
         "45",
         "2018-10-31 00:00:00",
         "3303.964121443974"
        ],
        [
         "46",
         "2018-11-30 00:00:00",
         "1231.2125806610645"
        ],
        [
         "47",
         "2018-12-31 00:00:00",
         "12.878639164740541"
        ],
        [
         "48",
         "2019-01-31 00:00:00",
         "359.19020726016123"
        ],
        [
         "49",
         "2019-02-28 00:00:00",
         "5125.261121381423"
        ],
        [
         "50",
         "2019-03-31 00:00:00",
         "1859.084701730234"
        ],
        [
         "51",
         "2019-04-30 00:00:00",
         "359.19020726016123"
        ],
        [
         "52",
         "2019-05-31 00:00:00",
         "0.0"
        ],
        [
         "53",
         "2019-06-30 00:00:00",
         "802.1914628810268"
        ],
        [
         "54",
         "2019-07-31 00:00:00",
         "0.0"
        ],
        [
         "55",
         "2019-08-31 00:00:00",
         "123.15434906260063"
        ],
        [
         "56",
         "2019-09-30 00:00:00",
         "1062.891715310452"
        ],
        [
         "57",
         "2019-10-31 00:00:00",
         "5456.757763661826"
        ],
        [
         "58",
         "2019-11-30 00:00:00",
         "1488.053190637396"
        ],
        [
         "59",
         "2019-12-31 00:00:00",
         "724.4387560161106"
        ],
        [
         "60",
         "2020-01-31 00:00:00",
         "420.3439216077817"
        ],
        [
         "61",
         "2020-02-29 00:00:00",
         "117.15270947820002"
        ],
        [
         "62",
         "2020-03-31 00:00:00",
         "250.48420813533946"
        ],
        [
         "63",
         "2020-04-30 00:00:00",
         "375.18155210393553"
        ],
        [
         "64",
         "2020-05-31 00:00:00",
         "0.0"
        ],
        [
         "65",
         "2020-06-30 00:00:00",
         "0.0"
        ],
        [
         "66",
         "2020-07-31 00:00:00",
         "503.7566507562601"
        ],
        [
         "67",
         "2020-08-31 00:00:00",
         "1062.2587626516831"
        ],
        [
         "68",
         "2020-09-30 00:00:00",
         "53.070177393624604"
        ],
        [
         "69",
         "2020-10-31 00:00:00",
         "4026.7260691009"
        ],
        [
         "70",
         "2020-11-30 00:00:00",
         "120.15181884084194"
        ],
        [
         "71",
         "2020-12-31 00:00:00",
         "1338.692295936444"
        ],
        [
         "72",
         "2021-01-31 00:00:00",
         "172.79160690000003"
        ],
        [
         "73",
         "2021-02-28 00:00:00",
         "8523.660215651022"
        ],
        [
         "74",
         "2021-03-31 00:00:00",
         "2337.3635859767605"
        ],
        [
         "75",
         "2021-04-30 00:00:00",
         "702.9162568692001"
        ],
        [
         "76",
         "2021-05-31 00:00:00",
         "57.597202300000006"
        ],
        [
         "77",
         "2021-06-30 00:00:00",
         "821.7047268927201"
        ],
        [
         "78",
         "2021-07-31 00:00:00",
         "551.8963924386001"
        ],
        [
         "79",
         "2021-08-31 00:00:00",
         "0.0"
        ],
        [
         "80",
         "2021-09-30 00:00:00",
         "120.18232231918003"
        ],
        [
         "81",
         "2021-10-31 00:00:00",
         "2001.2954299967203"
        ],
        [
         "82",
         "2021-11-30 00:00:00",
         "208.16780855266"
        ],
        [
         "83",
         "2021-12-31 00:00:00",
         "146.66551593672003"
        ],
        [
         "84",
         "2022-01-31 00:00:00",
         "21.169961560000004"
        ],
        [
         "85",
         "2022-02-28 00:00:00",
         "29.268612119999997"
        ]
       ],
       "shape": {
        "columns": 2,
        "rows": 84
       }
      },
      "text/html": [
       "<div>\n",
       "<style scoped>\n",
       "    .dataframe tbody tr th:only-of-type {\n",
       "        vertical-align: middle;\n",
       "    }\n",
       "\n",
       "    .dataframe tbody tr th {\n",
       "        vertical-align: top;\n",
       "    }\n",
       "\n",
       "    .dataframe thead th {\n",
       "        text-align: right;\n",
       "    }\n",
       "</style>\n",
       "<table border=\"1\" class=\"dataframe\">\n",
       "  <thead>\n",
       "    <tr style=\"text-align: right;\">\n",
       "      <th></th>\n",
       "      <th>Date</th>\n",
       "      <th>Real_Revenue</th>\n",
       "    </tr>\n",
       "  </thead>\n",
       "  <tbody>\n",
       "    <tr>\n",
       "      <th>36</th>\n",
       "      <td>2018-01-31</td>\n",
       "      <td>611.521328</td>\n",
       "    </tr>\n",
       "    <tr>\n",
       "      <th>37</th>\n",
       "      <td>2018-02-28</td>\n",
       "      <td>6.115213</td>\n",
       "    </tr>\n",
       "    <tr>\n",
       "      <th>38</th>\n",
       "      <td>2018-03-31</td>\n",
       "      <td>443.964484</td>\n",
       "    </tr>\n",
       "    <tr>\n",
       "      <th>39</th>\n",
       "      <td>2018-04-30</td>\n",
       "      <td>976.354952</td>\n",
       "    </tr>\n",
       "    <tr>\n",
       "      <th>40</th>\n",
       "      <td>2018-05-31</td>\n",
       "      <td>7160.339919</td>\n",
       "    </tr>\n",
       "    <tr>\n",
       "      <th>...</th>\n",
       "      <td>...</td>\n",
       "      <td>...</td>\n",
       "    </tr>\n",
       "    <tr>\n",
       "      <th>115</th>\n",
       "      <td>2024-08-31</td>\n",
       "      <td>626.730000</td>\n",
       "    </tr>\n",
       "    <tr>\n",
       "      <th>116</th>\n",
       "      <td>2024-09-30</td>\n",
       "      <td>87.720000</td>\n",
       "    </tr>\n",
       "    <tr>\n",
       "      <th>117</th>\n",
       "      <td>2024-10-31</td>\n",
       "      <td>172.810000</td>\n",
       "    </tr>\n",
       "    <tr>\n",
       "      <th>118</th>\n",
       "      <td>2024-11-30</td>\n",
       "      <td>0.000000</td>\n",
       "    </tr>\n",
       "    <tr>\n",
       "      <th>119</th>\n",
       "      <td>2024-12-31</td>\n",
       "      <td>65.450000</td>\n",
       "    </tr>\n",
       "  </tbody>\n",
       "</table>\n",
       "<p>84 rows × 2 columns</p>\n",
       "</div>"
      ],
      "text/plain": [
       "          Date  Real_Revenue\n",
       "36  2018-01-31    611.521328\n",
       "37  2018-02-28      6.115213\n",
       "38  2018-03-31    443.964484\n",
       "39  2018-04-30    976.354952\n",
       "40  2018-05-31   7160.339919\n",
       "..         ...           ...\n",
       "115 2024-08-31    626.730000\n",
       "116 2024-09-30     87.720000\n",
       "117 2024-10-31    172.810000\n",
       "118 2024-11-30      0.000000\n",
       "119 2024-12-31     65.450000\n",
       "\n",
       "[84 rows x 2 columns]"
      ]
     },
     "execution_count": 25,
     "metadata": {},
     "output_type": "execute_result"
    }
   ],
   "source": [
    "# 3. Group and sum revenue\n",
    "df_decomp = df_risk[['Real_Revenue', 'Date']].resample('M', on='Date').sum().reset_index()\n",
    "df_decomp = df_decomp[(df_decomp['Date'] > '2018-01-01') & (df_decomp['Date'] < '2025-01-01')]\n",
    "df_decomp"
   ]
  },
  {
   "cell_type": "code",
   "execution_count": 26,
   "metadata": {},
   "outputs": [],
   "source": [
    "# Make sure it's a Series and the index is datetime\n",
    "df_decomp = df_decomp.set_index(\"Date\")\n",
    "\n",
    "# Apply log transformation to handle multiplicative seasonality\n",
    "#df_decomp['Log_Real_Revenue'] = np.log(df_decomp['Real_Revenue'])\n",
    "\n",
    "#df_decomp = df_decomp.astype(float)\n",
    "df_decomp = df_decomp['Real_Revenue']"
   ]
  },
  {
   "cell_type": "code",
   "execution_count": 27,
   "metadata": {},
   "outputs": [
    {
     "data": {
      "image/png": "[encoded data removed]",
      "text/plain": [
       "<Figure size 640x480 with 4 Axes>"
      ]
     },
     "metadata": {},
     "output_type": "display_data"
    }
   ],
   "source": [
    "stl = STL(df_decomp, period=12, robust = True)  # or 12, depending on pattern\n",
    "result = stl.fit()\n",
    "result.plot()\n",
    "plt.show()"
   ]
  },
  {
   "cell_type": "markdown",
   "metadata": {},
   "source": [
    "### Promising Segment"
   ]
  },
  {
   "cell_type": "code",
   "execution_count": 28,
   "metadata": {},
   "outputs": [
    {
     "name": "stderr",
     "output_type": "stream",
     "text": [
      "/var/folders/qh/3cmsk7s53tdbg86r6lqvjyg40000gn/T/ipykernel_2755/2968259982.py:3: FutureWarning: 'M' is deprecated and will be removed in a future version, please use 'ME' instead.\n",
      "  df_decomp = df_potential[['Real_Revenue', 'Date']].resample('M', on='Date').sum().reset_index()\n"
     ]
    },
    {
     "data": {
      "application/vnd.microsoft.datawrangler.viewer.v0+json": {
       "columns": [
        {
         "name": "index",
         "rawType": "int64",
         "type": "integer"
        },
        {
         "name": "Date",
         "rawType": "datetime64[ns]",
         "type": "datetime"
        },
        {
         "name": "Real_Revenue",
         "rawType": "float64",
         "type": "float"
        }
       ],
       "conversionMethod": "pd.DataFrame",
       "ref": "6d179ca0-067c-4b24-bdb2-7afc0e4eccd8",
       "rows": [
        [
         "36",
         "2018-01-31 00:00:00",
         "134.5346921292934"
        ],
        [
         "37",
         "2018-02-28 00:00:00",
         "134.5346921292934"
        ],
        [
         "38",
         "2018-03-31 00:00:00",
         "391.37364983067175"
        ],
        [
         "39",
         "2018-04-30 00:00:00",
         "2421.67338003351"
        ],
        [
         "40",
         "2018-05-31 00:00:00",
         "6142.915194756324"
        ],
        [
         "41",
         "2018-06-30 00:00:00",
         "501.44748884554815"
        ],
        [
         "42",
         "2018-07-31 00:00:00",
         "93.89298467968959"
        ],
        [
         "43",
         "2018-08-31 00:00:00",
         "1330.1934227885529"
        ],
        [
         "44",
         "2018-09-30 00:00:00",
         "1176.7015694955865"
        ],
        [
         "45",
         "2018-10-31 00:00:00",
         "11862.510865514547"
        ],
        [
         "46",
         "2018-11-30 00:00:00",
         "20793.20502886786"
        ],
        [
         "47",
         "2018-12-31 00:00:00",
         "669.5180105947072"
        ],
        [
         "48",
         "2019-01-31 00:00:00",
         "9741.08277180576"
        ],
        [
         "49",
         "2019-02-28 00:00:00",
         "4039.955937137938"
        ],
        [
         "50",
         "2019-03-31 00:00:00",
         "1192.8946243248129"
        ],
        [
         "51",
         "2019-04-30 00:00:00",
         "2138.2233847990137"
        ],
        [
         "52",
         "2019-05-31 00:00:00",
         "2066.3853433469817"
        ],
        [
         "53",
         "2019-06-30 00:00:00",
         "13986.711021620866"
        ],
        [
         "54",
         "2019-07-31 00:00:00",
         "72.87969305308673"
        ],
        [
         "55",
         "2019-08-31 00:00:00",
         "3696.426422914319"
        ],
        [
         "56",
         "2019-09-30 00:00:00",
         "1999.7675329071303"
        ],
        [
         "57",
         "2019-10-31 00:00:00",
         "17830.3335914704"
        ],
        [
         "58",
         "2019-11-30 00:00:00",
         "7329.216314109047"
        ],
        [
         "59",
         "2019-12-31 00:00:00",
         "9014.093765318103"
        ],
        [
         "60",
         "2020-01-31 00:00:00",
         "2472.5430793502546"
        ],
        [
         "61",
         "2020-02-29 00:00:00",
         "6536.4768489814305"
        ],
        [
         "62",
         "2020-03-31 00:00:00",
         "593.6127789260395"
        ],
        [
         "63",
         "2020-04-30 00:00:00",
         "2045.7440434502244"
        ],
        [
         "64",
         "2020-05-31 00:00:00",
         "12.33618030805446"
        ],
        [
         "65",
         "2020-06-30 00:00:00",
         "715.2524371772546"
        ],
        [
         "66",
         "2020-07-31 00:00:00",
         "1392.3950979612507"
        ],
        [
         "67",
         "2020-08-31 00:00:00",
         "3380.476577806305"
        ],
        [
         "68",
         "2020-09-30 00:00:00",
         "70.91253504715448"
        ],
        [
         "69",
         "2020-10-31 00:00:00",
         "4718.383950589245"
        ],
        [
         "70",
         "2020-11-30 00:00:00",
         "340.3637668470145"
        ],
        [
         "71",
         "2020-12-31 00:00:00",
         "18285.042596835137"
        ],
        [
         "72",
         "2021-01-31 00:00:00",
         "674.4977972543802"
        ],
        [
         "73",
         "2021-02-28 00:00:00",
         "1709.9687807633202"
        ],
        [
         "74",
         "2021-03-31 00:00:00",
         "988.3219137061601"
        ],
        [
         "75",
         "2021-04-30 00:00:00",
         "482.7912691190601"
        ],
        [
         "76",
         "2021-05-31 00:00:00",
         "1787.0223180002602"
        ],
        [
         "77",
         "2021-06-30 00:00:00",
         "617.4535280964601"
        ],
        [
         "78",
         "2021-07-31 00:00:00",
         "145.21406643876003"
        ],
        [
         "79",
         "2021-08-31 00:00:00",
         "30.019661838760005"
        ],
        [
         "80",
         "2021-09-30 00:00:00",
         "6077.725903338761"
        ],
        [
         "81",
         "2021-10-31 00:00:00",
         "8099.917598329922"
        ],
        [
         "82",
         "2021-11-30 00:00:00",
         "12222.817494487603"
        ],
        [
         "83",
         "2021-12-31 00:00:00",
         "7951.950385621221"
        ],
        [
         "84",
         "2022-01-31 00:00:00",
         "324.04614308"
        ],
        [
         "85",
         "2022-02-28 00:00:00",
         "3365.1673"
        ]
       ],
       "shape": {
        "columns": 2,
        "rows": 84
       }
      },
      "text/html": [
       "<div>\n",
       "<style scoped>\n",
       "    .dataframe tbody tr th:only-of-type {\n",
       "        vertical-align: middle;\n",
       "    }\n",
       "\n",
       "    .dataframe tbody tr th {\n",
       "        vertical-align: top;\n",
       "    }\n",
       "\n",
       "    .dataframe thead th {\n",
       "        text-align: right;\n",
       "    }\n",
       "</style>\n",
       "<table border=\"1\" class=\"dataframe\">\n",
       "  <thead>\n",
       "    <tr style=\"text-align: right;\">\n",
       "      <th></th>\n",
       "      <th>Date</th>\n",
       "      <th>Real_Revenue</th>\n",
       "    </tr>\n",
       "  </thead>\n",
       "  <tbody>\n",
       "    <tr>\n",
       "      <th>36</th>\n",
       "      <td>2018-01-31</td>\n",
       "      <td>134.534692</td>\n",
       "    </tr>\n",
       "    <tr>\n",
       "      <th>37</th>\n",
       "      <td>2018-02-28</td>\n",
       "      <td>134.534692</td>\n",
       "    </tr>\n",
       "    <tr>\n",
       "      <th>38</th>\n",
       "      <td>2018-03-31</td>\n",
       "      <td>391.373650</td>\n",
       "    </tr>\n",
       "    <tr>\n",
       "      <th>39</th>\n",
       "      <td>2018-04-30</td>\n",
       "      <td>2421.673380</td>\n",
       "    </tr>\n",
       "    <tr>\n",
       "      <th>40</th>\n",
       "      <td>2018-05-31</td>\n",
       "      <td>6142.915195</td>\n",
       "    </tr>\n",
       "    <tr>\n",
       "      <th>...</th>\n",
       "      <td>...</td>\n",
       "      <td>...</td>\n",
       "    </tr>\n",
       "    <tr>\n",
       "      <th>115</th>\n",
       "      <td>2024-08-31</td>\n",
       "      <td>1037.700000</td>\n",
       "    </tr>\n",
       "    <tr>\n",
       "      <th>116</th>\n",
       "      <td>2024-09-30</td>\n",
       "      <td>6650.000000</td>\n",
       "    </tr>\n",
       "    <tr>\n",
       "      <th>117</th>\n",
       "      <td>2024-10-31</td>\n",
       "      <td>45124.150000</td>\n",
       "    </tr>\n",
       "    <tr>\n",
       "      <th>118</th>\n",
       "      <td>2024-11-30</td>\n",
       "      <td>1000.000000</td>\n",
       "    </tr>\n",
       "    <tr>\n",
       "      <th>119</th>\n",
       "      <td>2024-12-31</td>\n",
       "      <td>3274.270000</td>\n",
       "    </tr>\n",
       "  </tbody>\n",
       "</table>\n",
       "<p>84 rows × 2 columns</p>\n",
       "</div>"
      ],
      "text/plain": [
       "          Date  Real_Revenue\n",
       "36  2018-01-31    134.534692\n",
       "37  2018-02-28    134.534692\n",
       "38  2018-03-31    391.373650\n",
       "39  2018-04-30   2421.673380\n",
       "40  2018-05-31   6142.915195\n",
       "..         ...           ...\n",
       "115 2024-08-31   1037.700000\n",
       "116 2024-09-30   6650.000000\n",
       "117 2024-10-31  45124.150000\n",
       "118 2024-11-30   1000.000000\n",
       "119 2024-12-31   3274.270000\n",
       "\n",
       "[84 rows x 2 columns]"
      ]
     },
     "execution_count": 28,
     "metadata": {},
     "output_type": "execute_result"
    }
   ],
   "source": [
    "df_potential = df[df['Segment'] == 'Promising']\n",
    "# 3. Group and sum revenue\n",
    "df_decomp = df_potential[['Real_Revenue', 'Date']].resample('M', on='Date').sum().reset_index()\n",
    "df_decomp = df_decomp[(df_decomp['Date'] > '2018-01-01') & (df_decomp['Date'] < '2025-01-01')]\n",
    "df_decomp"
   ]
  },
  {
   "cell_type": "code",
   "execution_count": 29,
   "metadata": {},
   "outputs": [
    {
     "data": {
      "image/png": "[encoded data removed]",
      "text/plain": [
       "<Figure size 640x480 with 4 Axes>"
      ]
     },
     "metadata": {},
     "output_type": "display_data"
    }
   ],
   "source": [
    "# Make sure it's a Series and the index is datetime\n",
    "df_decomp = df_decomp.set_index(\"Date\")\n",
    "df_decomp = df_decomp['Real_Revenue']\n",
    "stl = STL(df_decomp, period=12, robust = True)  # or 12, depending on pattern\n",
    "result = stl.fit()\n",
    "result.plot()\n",
    "plt.show()"
   ]
  },
  {
   "cell_type": "markdown",
   "metadata": {},
   "source": [
    "## Survival Analysis"
   ]
  },
  {
   "cell_type": "code",
   "execution_count": 30,
   "metadata": {},
   "outputs": [
    {
     "name": "stdout",
     "output_type": "stream",
     "text": [
      "count    6414.000000\n",
      "mean      177.614437\n",
      "std       298.566653\n",
      "min         0.000000\n",
      "25%        30.000000\n",
      "50%        31.000000\n",
      "75%       253.000000\n",
      "max      3172.000000\n",
      "Name: Donation_Interval, dtype: float64\n"
     ]
    },
    {
     "data": {
      "image/png": "[encoded data removed]",
      "text/plain": [
       "<Figure size 1000x600 with 1 Axes>"
      ]
     },
     "metadata": {},
     "output_type": "display_data"
    }
   ],
   "source": [
    "# Sort the data by ID and Date\n",
    "df_sorted = df.sort_values(by=['ID', 'Date'])\n",
    "\n",
    "# Calculate the time difference between consecutive donations for each donor\n",
    "df_sorted['Donation_Interval'] = df_sorted.groupby('ID')['Date'].diff().dt.days\n",
    "\n",
    "# Analyze the distribution of donation intervals\n",
    "print(df_sorted['Donation_Interval'].describe())\n",
    "\n",
    "# Plot the distribution of donation intervals\n",
    "import matplotlib.pyplot as plt\n",
    "plt.figure(figsize=(10, 6))\n",
    "df_sorted['Donation_Interval'].dropna().hist(bins=50, edgecolor='black')\n",
    "plt.title('Distribution of Donation Intervals')\n",
    "plt.xlabel('Days Between Donations')\n",
    "plt.ylabel('Frequency')\n",
    "plt.grid(True)\n",
    "plt.show()"
   ]
  },
  {
   "cell_type": "code",
   "execution_count": 33,
   "metadata": {},
   "outputs": [
    {
     "name": "stdout",
     "output_type": "stream",
     "text": [
      "Churn Threshold (90th Percentile): 253.0 days\n"
     ]
    }
   ],
   "source": [
    "# Calculate the 90th percentile of donation intervals\n",
    "churn_threshold = df_sorted['Donation_Interval'].quantile(0.75)\n",
    "print(f\"Churn Threshold (90th Percentile): {churn_threshold} days\")"
   ]
  },
  {
   "cell_type": "code",
   "execution_count": 34,
   "metadata": {},
   "outputs": [],
   "source": [
    "# Define 'observation_end' (your dataset cutoff date)\n",
    "observation_end = pd.Timestamp('2025-01-31')\n",
    "\n",
    "df_survival = df.groupby('ID').agg(\n",
    "    Last_Donation_Date=('Date', 'max'),\n",
    "    First_Donation_Date=('Date', 'min'),\n",
    "    Segment=('Segment', 'first') \n",
    ").reset_index()\n",
    "\n",
    "# Compute duration (in days or months)\n",
    "df_survival['Duration'] = (df_survival['Last_Donation_Date'] - df_survival['First_Donation_Date']).dt.days\n",
    "\n",
    "# Churn definition: no donation in past 12 months\n",
    "df_survival['Churned'] = ((observation_end - df_survival['Last_Donation_Date']).dt.days > churn_threshold).astype(int)"
   ]
  },
  {
   "cell_type": "code",
   "execution_count": 35,
   "metadata": {},
   "outputs": [
    {
     "data": {
      "image/png": "[encoded data removed]",
      "text/plain": [
       "<Figure size 1200x600 with 1 Axes>"
      ]
     },
     "metadata": {},
     "output_type": "display_data"
    }
   ],
   "source": [
    "# Initialize Kaplan-Meier estimator\n",
    "kmf = KaplanMeierFitter()\n",
    "\n",
    "# Plot survival curves for each segment\n",
    "plt.figure(figsize=(12, 6))\n",
    "for segment in df_survival['Segment'].unique():\n",
    "    segment_data = df_survival[df_survival['Segment'] == segment]\n",
    "    kmf.fit(segment_data['Duration'], event_observed=segment_data['Churned'], label=segment)\n",
    "    kmf.plot_survival_function()\n",
    "\n",
    "plt.title('Kaplan-Meier Survival Curves by Segment')\n",
    "plt.xlabel('Time (Days)')\n",
    "plt.ylabel('Survival Probability')\n",
    "plt.legend()\n",
    "plt.grid(True)\n",
    "plt.show()"
   ]
  },
  {
   "cell_type": "code",
   "execution_count": 36,
   "metadata": {},
   "outputs": [
    {
     "name": "stdout",
     "output_type": "stream",
     "text": [
      "        Loyal  Potential  Inactive   At Risk  Promising\n",
      "30   0.976452   0.458105       0.0  0.083240   0.895562\n",
      "90   0.974262   0.441139       0.0  0.076837   0.871451\n",
      "180  0.974262   0.410598       0.0  0.064031   0.850784\n",
      "365  0.952088   0.288437       0.0  0.054426   0.739612\n"
     ]
    }
   ],
   "source": [
    "# Extract survival probabilities for each segment\n",
    "summary = {}\n",
    "for segment in df_survival['Segment'].unique():\n",
    "    segment_data = df_survival[df_survival['Segment'] == segment]\n",
    "    kmf.fit(segment_data['Duration'], event_observed=segment_data['Churned'])\n",
    "    survival_table = kmf.survival_function_at_times([30, 90, 180, 365])  # Survival at 30, 90, 180, 365 days\n",
    "    summary[segment] = survival_table\n",
    "\n",
    "# Convert to a DataFrame for easier viewing\n",
    "summary_df = pd.DataFrame(summary)\n",
    "print(summary_df)"
   ]
  },
  {
   "cell_type": "code",
   "execution_count": 37,
   "metadata": {},
   "outputs": [
    {
     "name": "stdout",
     "output_type": "stream",
     "text": [
      "     Segment  Median Survival Time\n",
      "0      Loyal                2701.0\n",
      "1  Potential                   1.0\n",
      "2   Inactive                   0.0\n",
      "3    At Risk                   0.0\n",
      "4  Promising                 772.0\n"
     ]
    }
   ],
   "source": [
    "# Calculate median survival time for each segment\n",
    "median_survival = {}\n",
    "for segment in df_survival['Segment'].unique():\n",
    "    segment_data = df_survival[df_survival['Segment'] == segment]\n",
    "    kmf.fit(segment_data['Duration'], event_observed=segment_data['Churned'])\n",
    "    median_survival[segment] = kmf.median_survival_time_\n",
    "\n",
    "# Convert to a DataFrame for easier viewing\n",
    "median_survival_df = pd.DataFrame(list(median_survival.items()), columns=['Segment', 'Median Survival Time'])\n",
    "print(median_survival_df)"
   ]
  }
 ],
 "metadata": {
  "kernelspec": {
   "display_name": "Python 3",
   "language": "python",
   "name": "python3"
  },
  "language_info": {
   "codemirror_mode": {
    "name": "ipython",
    "version": 3
   },
   "file_extension": ".py",
   "mimetype": "text/x-python",
   "name": "python",
   "nbconvert_exporter": "python",
   "pygments_lexer": "ipython3",
   "version": "3.11.5"
  }
 },
 "nbformat": 4,
 "nbformat_minor": 2
}
