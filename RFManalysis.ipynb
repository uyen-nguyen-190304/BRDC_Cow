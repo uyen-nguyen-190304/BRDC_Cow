{
 "cells": [
  {
   "cell_type": "markdown",
   "metadata": {},
   "source": [
    "# Big Red Data Challenge (Spring 2025)"
   ]
  },
  {
   "cell_type": "code",
   "execution_count": 333,
   "metadata": {},
   "outputs": [],
   "source": [
    "# Load packages\n",
    "import pandas as pd\n",
    "import numpy as np\n",
    "import matplotlib.pyplot as plt\n",
    "import seaborn as sns\n",
    "from datetime import datetime\n",
    "import datetime as dt\n",
    "from scipy import stats\n",
    "from sklearn.preprocessing import StandardScaler\n",
    "from sklearn.cluster import KMeans\n",
    "from scipy.spatial.distance import cdist\n",
    "import plotly.express as px \n",
    "\n",
    "# supress warning\n",
    "import warnings\n",
    "warnings.filterwarnings('ignore')\n",
    "\n",
    "# Import data\n",
    "donor_df = pd.read_excel(\"./data/all_transactions.xlsx\")\n",
    "# hospital_df = pd.read_excel(\"./data/survey_responses.xlsx\")"
   ]
  },
  {
   "cell_type": "code",
   "execution_count": 334,
   "metadata": {},
   "outputs": [
    {
     "data": {
      "text/plain": [
       "9488"
      ]
     },
     "execution_count": 334,
     "metadata": {},
     "output_type": "execute_result"
    }
   ],
   "source": [
    "len(donor_df)"
   ]
  },
  {
   "cell_type": "markdown",
   "metadata": {},
   "source": [
    "## Donor Data\n",
    "\n",
    "Potential Data Goals:\n",
    "- Improved Fundraising Strategies: Donor data helps identifying trends, preferred donation methods, and the best time to solicit gifts\n",
    "- Enhanced Donor Retention and Engagement: Help us understand donor behaviors, such as frequency and amount of giving\n",
    "- Better Decision-Making: Help us prioritize high-value donors, target new donor prospects\n",
    "\n",
    "### 1. Clean & Explore Data"
   ]
  },
  {
   "cell_type": "code",
   "execution_count": 335,
   "metadata": {},
   "outputs": [
    {
     "data": {
      "text/html": [
       "<div>\n",
       "<style scoped>\n",
       "    .dataframe tbody tr th:only-of-type {\n",
       "        vertical-align: middle;\n",
       "    }\n",
       "\n",
       "    .dataframe tbody tr th {\n",
       "        vertical-align: top;\n",
       "    }\n",
       "\n",
       "    .dataframe thead th {\n",
       "        text-align: right;\n",
       "    }\n",
       "</style>\n",
       "<table border=\"1\" class=\"dataframe\">\n",
       "  <thead>\n",
       "    <tr style=\"text-align: right;\">\n",
       "      <th></th>\n",
       "      <th>Account Number</th>\n",
       "      <th>Date</th>\n",
       "      <th>Revenue Amount</th>\n",
       "      <th>Type</th>\n",
       "      <th>Fund</th>\n",
       "      <th>Campaign</th>\n",
       "      <th>Appeal</th>\n",
       "      <th>Primary City</th>\n",
       "      <th>Primary State</th>\n",
       "      <th>Primary ZIP Code</th>\n",
       "    </tr>\n",
       "  </thead>\n",
       "  <tbody>\n",
       "    <tr>\n",
       "      <th>0</th>\n",
       "      <td>8231</td>\n",
       "      <td>2025-02-18</td>\n",
       "      <td>20.76</td>\n",
       "      <td>Recurring Donation Payment</td>\n",
       "      <td>Unrestricted</td>\n",
       "      <td>NaN</td>\n",
       "      <td>NaN</td>\n",
       "      <td>Columbus</td>\n",
       "      <td>OH</td>\n",
       "      <td>43214-4014</td>\n",
       "    </tr>\n",
       "    <tr>\n",
       "      <th>1</th>\n",
       "      <td>2139</td>\n",
       "      <td>2025-02-17</td>\n",
       "      <td>78.30</td>\n",
       "      <td>Recurring Donation Payment</td>\n",
       "      <td>Unrestricted</td>\n",
       "      <td>Sam's Fans 2024</td>\n",
       "      <td>NaN</td>\n",
       "      <td>Galena</td>\n",
       "      <td>OH</td>\n",
       "      <td>43021</td>\n",
       "    </tr>\n",
       "    <tr>\n",
       "      <th>2</th>\n",
       "      <td>1566</td>\n",
       "      <td>2025-02-15</td>\n",
       "      <td>52.30</td>\n",
       "      <td>Recurring Donation Payment</td>\n",
       "      <td>Unrestricted</td>\n",
       "      <td>Sam's Fans 2024</td>\n",
       "      <td>NaN</td>\n",
       "      <td>Darien</td>\n",
       "      <td>CT</td>\n",
       "      <td>06820-3204</td>\n",
       "    </tr>\n",
       "    <tr>\n",
       "      <th>3</th>\n",
       "      <td>10382</td>\n",
       "      <td>2025-02-15</td>\n",
       "      <td>21.11</td>\n",
       "      <td>Recurring Donation Payment</td>\n",
       "      <td>Unrestricted</td>\n",
       "      <td>Sam's Fans 2024</td>\n",
       "      <td>NaN</td>\n",
       "      <td>Columbus</td>\n",
       "      <td>OH</td>\n",
       "      <td>43214</td>\n",
       "    </tr>\n",
       "    <tr>\n",
       "      <th>4</th>\n",
       "      <td>9739</td>\n",
       "      <td>2025-02-15</td>\n",
       "      <td>24.23</td>\n",
       "      <td>Recurring Donation Payment</td>\n",
       "      <td>Unrestricted</td>\n",
       "      <td>Sam's Fans 2024</td>\n",
       "      <td>BTJ Website</td>\n",
       "      <td>Dublin</td>\n",
       "      <td>OH</td>\n",
       "      <td>43017</td>\n",
       "    </tr>\n",
       "  </tbody>\n",
       "</table>\n",
       "</div>"
      ],
      "text/plain": [
       "   Account Number       Date  Revenue Amount                        Type  \\\n",
       "0            8231 2025-02-18           20.76  Recurring Donation Payment   \n",
       "1            2139 2025-02-17           78.30  Recurring Donation Payment   \n",
       "2            1566 2025-02-15           52.30  Recurring Donation Payment   \n",
       "3           10382 2025-02-15           21.11  Recurring Donation Payment   \n",
       "4            9739 2025-02-15           24.23  Recurring Donation Payment   \n",
       "\n",
       "           Fund         Campaign       Appeal Primary City Primary State  \\\n",
       "0  Unrestricted              NaN          NaN     Columbus            OH   \n",
       "1  Unrestricted  Sam's Fans 2024          NaN       Galena            OH   \n",
       "2  Unrestricted  Sam's Fans 2024          NaN       Darien            CT   \n",
       "3  Unrestricted  Sam's Fans 2024          NaN     Columbus            OH   \n",
       "4  Unrestricted  Sam's Fans 2024  BTJ Website       Dublin            OH   \n",
       "\n",
       "  Primary ZIP Code  \n",
       "0       43214-4014  \n",
       "1            43021  \n",
       "2       06820-3204  \n",
       "3            43214  \n",
       "4            43017  "
      ]
     },
     "execution_count": 335,
     "metadata": {},
     "output_type": "execute_result"
    }
   ],
   "source": [
    "donor_df.head()"
   ]
  },
  {
   "cell_type": "code",
   "execution_count": 336,
   "metadata": {},
   "outputs": [
    {
     "data": {
      "text/plain": [
       "Date\n",
       "2020-08-16    131\n",
       "2019-06-09     50\n",
       "2019-10-24     35\n",
       "2021-10-21     12\n",
       "2023-10-26     11\n",
       "             ... \n",
       "2020-04-28      2\n",
       "2020-04-24      2\n",
       "2024-10-06      2\n",
       "2019-04-10      2\n",
       "2015-01-01      2\n",
       "Name: count, Length: 71, dtype: int64"
      ]
     },
     "execution_count": 336,
     "metadata": {},
     "output_type": "execute_result"
    }
   ],
   "source": [
    "a = donor_df[donor_df.duplicated(keep=False)]['Date'].value_counts()\n",
    "# plt.hist(a)\n",
    "a"
   ]
  },
  {
   "cell_type": "code",
   "execution_count": 337,
   "metadata": {},
   "outputs": [],
   "source": [
    "# Remove wrong data points\n",
    "donor_df = donor_df.loc[donor_df['Date'] > '2014-12-31']\n",
    "donor_df['Primary City'] = donor_df['Primary City'].str.title()\n",
    "# donor_df.loc[donor_df['Primary City'].str.contains('james', case=False, na=False)]"
   ]
  },
  {
   "cell_type": "code",
   "execution_count": 338,
   "metadata": {},
   "outputs": [
    {
     "name": "stdout",
     "output_type": "stream",
     "text": [
      "Duplicate entries: 287\n",
      "3% rows are duplicate.\n"
     ]
    }
   ],
   "source": [
    "# Duplicate records\n",
    "print('Duplicate entries: {}'.format(donor_df.duplicated().sum()))\n",
    "print('{}% rows are duplicate.'.format(round((donor_df.duplicated().sum()/donor_df.shape[0])*100),2))"
   ]
  },
  {
   "cell_type": "code",
   "execution_count": 339,
   "metadata": {},
   "outputs": [
    {
     "name": "stdout",
     "output_type": "stream",
     "text": [
      "Total number of transactions with zero or negative Revenue Amount: 335\n",
      "Percentage of transactions with zero or negative Revenue Amount 3.53 %\n"
     ]
    }
   ],
   "source": [
    "print(\"Total number of transactions with zero or negative Revenue Amount:\", donor_df[donor_df['Revenue Amount'] <= 0 ]['Revenue Amount'].count())\n",
    "print(\"Percentage of transactions with zero or negative Revenue Amount\" ,round(len(donor_df[donor_df['Revenue Amount']<=0])/len(donor_df)*100, 2),\"%\")"
   ]
  },
  {
   "cell_type": "code",
   "execution_count": 340,
   "metadata": {},
   "outputs": [],
   "source": [
    "# Remove duplicate data\n",
    "donor_df.drop_duplicates(inplace = True)\n",
    "\n",
    "# Remove zero or negative revenue amounts\n",
    "donor_df = donor_df.loc[donor_df[\"Revenue Amount\"] > 0]\n",
    "\n",
    "# Remove Pledge & Soft Credit\n",
    "donor_df = donor_df.loc[(donor_df[\"Type\"] != \"Pledge\") & (donor_df[\"Type\"] != \"Pledge Payment\") & (donor_df[\"Type\"] != \"Soft Credit\")]"
   ]
  },
  {
   "cell_type": "markdown",
   "metadata": {},
   "source": [
    "### 2. Calculate RFM Table\n",
    "Three key factors:\n",
    "- **Recency**: how recently a customer has transacted with a brand\n",
    "- **Frequency**: how frequently they’ve engaged with a brand\n",
    "- **Monetary**: how much money they’ve spent on a brand’s products and services"
   ]
  },
  {
   "cell_type": "code",
   "execution_count": 341,
   "metadata": {},
   "outputs": [],
   "source": [
    "donor_df[\"Date\"] = donor_df[\"Date\"].dt.date\n",
    "last_date = max(donor_df[\"Date\"]) + dt.timedelta(days=1)\n",
    "donor_df[\"id\"] = donor_df[\"Account Number\"].astype(str)"
   ]
  },
  {
   "cell_type": "code",
   "execution_count": 342,
   "metadata": {},
   "outputs": [
    {
     "data": {
      "text/html": [
       "<div>\n",
       "<style scoped>\n",
       "    .dataframe tbody tr th:only-of-type {\n",
       "        vertical-align: middle;\n",
       "    }\n",
       "\n",
       "    .dataframe tbody tr th {\n",
       "        vertical-align: top;\n",
       "    }\n",
       "\n",
       "    .dataframe thead th {\n",
       "        text-align: right;\n",
       "    }\n",
       "</style>\n",
       "<table border=\"1\" class=\"dataframe\">\n",
       "  <thead>\n",
       "    <tr style=\"text-align: right;\">\n",
       "      <th></th>\n",
       "      <th>id</th>\n",
       "      <th>Monetary</th>\n",
       "      <th>Recency</th>\n",
       "      <th>Frequency</th>\n",
       "    </tr>\n",
       "  </thead>\n",
       "  <tbody>\n",
       "    <tr>\n",
       "      <th>0</th>\n",
       "      <td>10000</td>\n",
       "      <td>203.0</td>\n",
       "      <td>124</td>\n",
       "      <td>2</td>\n",
       "    </tr>\n",
       "    <tr>\n",
       "      <th>1</th>\n",
       "      <td>10001</td>\n",
       "      <td>1650.0</td>\n",
       "      <td>482</td>\n",
       "      <td>3</td>\n",
       "    </tr>\n",
       "    <tr>\n",
       "      <th>2</th>\n",
       "      <td>10015</td>\n",
       "      <td>300.0</td>\n",
       "      <td>1217</td>\n",
       "      <td>1</td>\n",
       "    </tr>\n",
       "    <tr>\n",
       "      <th>3</th>\n",
       "      <td>10019</td>\n",
       "      <td>500.0</td>\n",
       "      <td>846</td>\n",
       "      <td>1</td>\n",
       "    </tr>\n",
       "    <tr>\n",
       "      <th>4</th>\n",
       "      <td>10036</td>\n",
       "      <td>500.0</td>\n",
       "      <td>846</td>\n",
       "      <td>1</td>\n",
       "    </tr>\n",
       "    <tr>\n",
       "      <th>...</th>\n",
       "      <td>...</td>\n",
       "      <td>...</td>\n",
       "      <td>...</td>\n",
       "      <td>...</td>\n",
       "    </tr>\n",
       "    <tr>\n",
       "      <th>2518</th>\n",
       "      <td>9985</td>\n",
       "      <td>500.0</td>\n",
       "      <td>846</td>\n",
       "      <td>1</td>\n",
       "    </tr>\n",
       "    <tr>\n",
       "      <th>2519</th>\n",
       "      <td>9986</td>\n",
       "      <td>4430.9</td>\n",
       "      <td>93</td>\n",
       "      <td>6</td>\n",
       "    </tr>\n",
       "    <tr>\n",
       "      <th>2520</th>\n",
       "      <td>9987</td>\n",
       "      <td>740.0</td>\n",
       "      <td>117</td>\n",
       "      <td>5</td>\n",
       "    </tr>\n",
       "    <tr>\n",
       "      <th>2521</th>\n",
       "      <td>9988</td>\n",
       "      <td>500.0</td>\n",
       "      <td>118</td>\n",
       "      <td>1</td>\n",
       "    </tr>\n",
       "    <tr>\n",
       "      <th>2522</th>\n",
       "      <td>9997</td>\n",
       "      <td>1200.0</td>\n",
       "      <td>117</td>\n",
       "      <td>5</td>\n",
       "    </tr>\n",
       "  </tbody>\n",
       "</table>\n",
       "<p>2523 rows × 4 columns</p>\n",
       "</div>"
      ],
      "text/plain": [
       "         id  Monetary  Recency  Frequency\n",
       "0     10000     203.0      124          2\n",
       "1     10001    1650.0      482          3\n",
       "2     10015     300.0     1217          1\n",
       "3     10019     500.0      846          1\n",
       "4     10036     500.0      846          1\n",
       "...     ...       ...      ...        ...\n",
       "2518   9985     500.0      846          1\n",
       "2519   9986    4430.9       93          6\n",
       "2520   9987     740.0      117          5\n",
       "2521   9988     500.0      118          1\n",
       "2522   9997    1200.0      117          5\n",
       "\n",
       "[2523 rows x 4 columns]"
      ]
     },
     "execution_count": 342,
     "metadata": {},
     "output_type": "execute_result"
    }
   ],
   "source": [
    "donor_frequency = donor_df.groupby(\"id\").agg({\"Revenue Amount\":\"sum\", \n",
    "                                                \"Date\":lambda x: (last_date - x.max()).days,\n",
    "                                                \"Account Number\":\"count\"}).reset_index()\n",
    "donor_frequency = donor_frequency.rename(columns={\"Revenue Amount\":\"Monetary\",\n",
    "                                                  \"Date\":\"Recency\",\n",
    "                                                  \"Account Number\":\"Frequency\"})\n",
    "donor_frequency['Recency'] = donor_frequency['Recency'].astype(int)\n",
    "donor_frequency"
   ]
  },
  {
   "cell_type": "markdown",
   "metadata": {},
   "source": [
    "#### Manage Skewness and Scaling"
   ]
  },
  {
   "cell_type": "code",
   "execution_count": 343,
   "metadata": {},
   "outputs": [
    {
     "data": {
      "text/html": [
       "<div>\n",
       "<style scoped>\n",
       "    .dataframe tbody tr th:only-of-type {\n",
       "        vertical-align: middle;\n",
       "    }\n",
       "\n",
       "    .dataframe tbody tr th {\n",
       "        vertical-align: top;\n",
       "    }\n",
       "\n",
       "    .dataframe thead th {\n",
       "        text-align: right;\n",
       "    }\n",
       "</style>\n",
       "<table border=\"1\" class=\"dataframe\">\n",
       "  <thead>\n",
       "    <tr style=\"text-align: right;\">\n",
       "      <th></th>\n",
       "      <th>Recency</th>\n",
       "      <th>Frequency</th>\n",
       "      <th>Monetary</th>\n",
       "    </tr>\n",
       "  </thead>\n",
       "  <tbody>\n",
       "    <tr>\n",
       "      <th>count</th>\n",
       "      <td>2523.000000</td>\n",
       "      <td>2523.000000</td>\n",
       "      <td>2523.000000</td>\n",
       "    </tr>\n",
       "    <tr>\n",
       "      <th>mean</th>\n",
       "      <td>1275.779231</td>\n",
       "      <td>3.480380</td>\n",
       "      <td>1015.343266</td>\n",
       "    </tr>\n",
       "    <tr>\n",
       "      <th>std</th>\n",
       "      <td>899.002845</td>\n",
       "      <td>9.767556</td>\n",
       "      <td>4202.858890</td>\n",
       "    </tr>\n",
       "    <tr>\n",
       "      <th>min</th>\n",
       "      <td>1.000000</td>\n",
       "      <td>1.000000</td>\n",
       "      <td>1.330000</td>\n",
       "    </tr>\n",
       "    <tr>\n",
       "      <th>25%</th>\n",
       "      <td>482.000000</td>\n",
       "      <td>1.000000</td>\n",
       "      <td>43.500000</td>\n",
       "    </tr>\n",
       "    <tr>\n",
       "      <th>50%</th>\n",
       "      <td>1217.000000</td>\n",
       "      <td>1.000000</td>\n",
       "      <td>103.300000</td>\n",
       "    </tr>\n",
       "    <tr>\n",
       "      <th>75%</th>\n",
       "      <td>2017.000000</td>\n",
       "      <td>2.000000</td>\n",
       "      <td>499.590000</td>\n",
       "    </tr>\n",
       "    <tr>\n",
       "      <th>max</th>\n",
       "      <td>3702.000000</td>\n",
       "      <td>123.000000</td>\n",
       "      <td>115000.000000</td>\n",
       "    </tr>\n",
       "  </tbody>\n",
       "</table>\n",
       "</div>"
      ],
      "text/plain": [
       "           Recency    Frequency       Monetary\n",
       "count  2523.000000  2523.000000    2523.000000\n",
       "mean   1275.779231     3.480380    1015.343266\n",
       "std     899.002845     9.767556    4202.858890\n",
       "min       1.000000     1.000000       1.330000\n",
       "25%     482.000000     1.000000      43.500000\n",
       "50%    1217.000000     1.000000     103.300000\n",
       "75%    2017.000000     2.000000     499.590000\n",
       "max    3702.000000   123.000000  115000.000000"
      ]
     },
     "execution_count": 343,
     "metadata": {},
     "output_type": "execute_result"
    }
   ],
   "source": [
    "donor_frequency[['Recency', 'Frequency', 'Monetary']].describe()"
   ]
  },
  {
   "cell_type": "code",
   "execution_count": 344,
   "metadata": {},
   "outputs": [
    {
     "data": {
      "image/png": "[encoded data removed]",
      "text/plain": [
       "<Figure size 1200x1000 with 3 Axes>"
      ]
     },
     "metadata": {},
     "output_type": "display_data"
    }
   ],
   "source": [
    "plt.figure(figsize=(12,10))\n",
    "# Plot recency distribution\n",
    "plt.subplot(3, 1, 1); sns.histplot(donor_frequency['Recency'], kde=True)\n",
    "plt.subplot(3, 1, 2); sns.histplot(donor_frequency['Frequency'], kde=True)\n",
    "plt.subplot(3, 1, 3); sns.histplot(donor_frequency['Monetary'], kde=True)\n",
    "plt.show()"
   ]
  },
  {
   "cell_type": "markdown",
   "metadata": {},
   "source": [
    "Bruh! So weird :)"
   ]
  },
  {
   "cell_type": "code",
   "execution_count": 345,
   "metadata": {},
   "outputs": [],
   "source": [
    "from scipy import stats\n",
    "def analyze_skewness(x):\n",
    "    fig, ax = plt.subplots(2, 2, figsize=(5,5))\n",
    "    sns.histplot(donor_frequency[x], ax=ax[0,0], kde=True)\n",
    "    sns.histplot(np.log(donor_frequency[x]), ax=ax[0,1], kde=True)\n",
    "    sns.histplot(np.sqrt(donor_frequency[x]), ax=ax[1,0], kde=True)\n",
    "    sns.histplot(stats.boxcox(donor_frequency[x])[0], ax=ax[1,1], kde=True)\n",
    "    plt.tight_layout()\n",
    "    plt.show()\n",
    "    \n",
    "    print('Log Transform : The skew coefficient of', donor_frequency[x].skew().round(2), 'to', np.log(donor_frequency[x]).skew().round(2))\n",
    "    print('Square Root Transform : The skew coefficient of', donor_frequency[x].skew().round(2), 'to', np.sqrt(donor_frequency[x]).skew().round(2))\n",
    "    print('Box-Cox Transform : The skew coefficient of', donor_frequency[x].skew().round(2), 'to', pd.Series(stats.boxcox(donor_frequency[x])[0]).skew().round(2))"
   ]
  },
  {
   "cell_type": "code",
   "execution_count": 346,
   "metadata": {},
   "outputs": [
    {
     "data": {
      "image/png": "[encoded data removed]",
      "text/plain": [
       "<Figure size 500x500 with 4 Axes>"
      ]
     },
     "metadata": {},
     "output_type": "display_data"
    },
    {
     "name": "stdout",
     "output_type": "stream",
     "text": [
      "Log Transform : The skew coefficient of 0.28 to -1.38\n",
      "Square Root Transform : The skew coefficient of 0.28 to -0.32\n",
      "Box-Cox Transform : The skew coefficient of 0.28 to -0.28\n"
     ]
    }
   ],
   "source": [
    "analyze_skewness('Recency')"
   ]
  },
  {
   "cell_type": "code",
   "execution_count": 347,
   "metadata": {},
   "outputs": [
    {
     "data": {
      "image/png": "[encoded data removed]",
      "text/plain": [
       "<Figure size 500x500 with 4 Axes>"
      ]
     },
     "metadata": {},
     "output_type": "display_data"
    },
    {
     "name": "stdout",
     "output_type": "stream",
     "text": [
      "Log Transform : The skew coefficient of 7.41 to 2.05\n",
      "Square Root Transform : The skew coefficient of 7.41 to 4.57\n",
      "Box-Cox Transform : The skew coefficient of 7.41 to 0.7\n"
     ]
    }
   ],
   "source": [
    "analyze_skewness('Frequency')"
   ]
  },
  {
   "cell_type": "code",
   "execution_count": 348,
   "metadata": {},
   "outputs": [
    {
     "data": {
      "image/png": "[encoded data removed]",
      "text/plain": [
       "<Figure size 500x500 with 4 Axes>"
      ]
     },
     "metadata": {},
     "output_type": "display_data"
    },
    {
     "name": "stdout",
     "output_type": "stream",
     "text": [
      "Log Transform : The skew coefficient of 12.88 to 0.73\n",
      "Square Root Transform : The skew coefficient of 12.88 to 4.15\n",
      "Box-Cox Transform : The skew coefficient of 12.88 to 0.04\n"
     ]
    }
   ],
   "source": [
    "analyze_skewness('Monetary')"
   ]
  },
  {
   "cell_type": "markdown",
   "metadata": {},
   "source": [
    "Not really optimal but Box-Cox Transformation Then?"
   ]
  },
  {
   "cell_type": "code",
   "execution_count": 349,
   "metadata": {},
   "outputs": [],
   "source": [
    "# Transform data\n",
    "transformed_fr = donor_frequency.copy()\n",
    "transformed_fr[\"Recency\"] = stats.boxcox(transformed_fr['Recency'])[0]\n",
    "transformed_fr[\"Frequency\"] = stats.boxcox(transformed_fr['Frequency'])[0]\n",
    "transformed_fr[\"Monetary\"] = stats.boxcox(transformed_fr['Monetary'])[0]"
   ]
  },
  {
   "cell_type": "code",
   "execution_count": 350,
   "metadata": {},
   "outputs": [],
   "source": [
    "# scale the data\n",
    "dt = transformed_fr[[\"Recency\", \"Frequency\", \"Monetary\"]]\n",
    "\n",
    "scaler = StandardScaler()\n",
    "scaler.fit(dt)\n",
    "donor_normalized = scaler.transform(dt)"
   ]
  },
  {
   "cell_type": "markdown",
   "metadata": {},
   "source": [
    "### 3. Make Segmentations: K-Means Clustering"
   ]
  },
  {
   "cell_type": "code",
   "execution_count": 351,
   "metadata": {},
   "outputs": [],
   "source": [
    "k_ranges = range(1, 10)\n",
    "\n",
    "distortions = []\n",
    "inertias = []\n",
    "mapping1 = {}\n",
    "sse = {}\n",
    "\n",
    "for k in k_ranges:\n",
    "    kmeans = KMeans(n_clusters=k, random_state=23)\n",
    "    kmeans.fit(donor_normalized)\n",
    "\n",
    "    distortions.append(sum(np.min(cdist(donor_normalized, kmeans.cluster_centers_,\n",
    "                                        'euclidean'), axis=1)) / donor_normalized.shape[0])\n",
    "    inertias.append(kmeans.inertia_)\n",
    " \n",
    "    mapping1[k] = sum(np.min(cdist(donor_normalized, kmeans.cluster_centers_,\n",
    "                                   'euclidean'), axis=1)) / donor_normalized.shape[0]\n",
    "    \n",
    "    sse[k] = kmeans.inertia_"
   ]
  },
  {
   "cell_type": "code",
   "execution_count": 352,
   "metadata": {},
   "outputs": [
    {
     "data": {
      "image/png": "[encoded data removed]",
      "text/plain": [
       "<Figure size 1200x800 with 1 Axes>"
      ]
     },
     "metadata": {},
     "output_type": "display_data"
    }
   ],
   "source": [
    "plt.figure(figsize=(12,8))\n",
    "plt.title('The Elbow Method')\n",
    "plt.xlabel('k')\n",
    "plt.ylabel('SSE')\n",
    "sns.pointplot(x=list(sse.keys()), y=list(sse.values()))\n",
    "plt.show()"
   ]
  },
  {
   "cell_type": "markdown",
   "metadata": {},
   "source": [
    "Optimal point maybe k = 3"
   ]
  },
  {
   "cell_type": "code",
   "execution_count": 353,
   "metadata": {},
   "outputs": [
    {
     "data": {
      "text/html": [
       "<style>#sk-container-id-12 {color: black;}#sk-container-id-12 pre{padding: 0;}#sk-container-id-12 div.sk-toggleable {background-color: white;}#sk-container-id-12 label.sk-toggleable__label {cursor: pointer;display: block;width: 100%;margin-bottom: 0;padding: 0.3em;box-sizing: border-box;text-align: center;}#sk-container-id-12 label.sk-toggleable__label-arrow:before {content: \"▸\";float: left;margin-right: 0.25em;color: #696969;}#sk-container-id-12 label.sk-toggleable__label-arrow:hover:before {color: black;}#sk-container-id-12 div.sk-estimator:hover label.sk-toggleable__label-arrow:before {color: black;}#sk-container-id-12 div.sk-toggleable__content {max-height: 0;max-width: 0;overflow: hidden;text-align: left;background-color: #f0f8ff;}#sk-container-id-12 div.sk-toggleable__content pre {margin: 0.2em;color: black;border-radius: 0.25em;background-color: #f0f8ff;}#sk-container-id-12 input.sk-toggleable__control:checked~div.sk-toggleable__content {max-height: 200px;max-width: 100%;overflow: auto;}#sk-container-id-12 input.sk-toggleable__control:checked~label.sk-toggleable__label-arrow:before {content: \"▾\";}#sk-container-id-12 div.sk-estimator input.sk-toggleable__control:checked~label.sk-toggleable__label {background-color: #d4ebff;}#sk-container-id-12 div.sk-label input.sk-toggleable__control:checked~label.sk-toggleable__label {background-color: #d4ebff;}#sk-container-id-12 input.sk-hidden--visually {border: 0;clip: rect(1px 1px 1px 1px);clip: rect(1px, 1px, 1px, 1px);height: 1px;margin: -1px;overflow: hidden;padding: 0;position: absolute;width: 1px;}#sk-container-id-12 div.sk-estimator {font-family: monospace;background-color: #f0f8ff;border: 1px dotted black;border-radius: 0.25em;box-sizing: border-box;margin-bottom: 0.5em;}#sk-container-id-12 div.sk-estimator:hover {background-color: #d4ebff;}#sk-container-id-12 div.sk-parallel-item::after {content: \"\";width: 100%;border-bottom: 1px solid gray;flex-grow: 1;}#sk-container-id-12 div.sk-label:hover label.sk-toggleable__label {background-color: #d4ebff;}#sk-container-id-12 div.sk-serial::before {content: \"\";position: absolute;border-left: 1px solid gray;box-sizing: border-box;top: 0;bottom: 0;left: 50%;z-index: 0;}#sk-container-id-12 div.sk-serial {display: flex;flex-direction: column;align-items: center;background-color: white;padding-right: 0.2em;padding-left: 0.2em;position: relative;}#sk-container-id-12 div.sk-item {position: relative;z-index: 1;}#sk-container-id-12 div.sk-parallel {display: flex;align-items: stretch;justify-content: center;background-color: white;position: relative;}#sk-container-id-12 div.sk-item::before, #sk-container-id-12 div.sk-parallel-item::before {content: \"\";position: absolute;border-left: 1px solid gray;box-sizing: border-box;top: 0;bottom: 0;left: 50%;z-index: -1;}#sk-container-id-12 div.sk-parallel-item {display: flex;flex-direction: column;z-index: 1;position: relative;background-color: white;}#sk-container-id-12 div.sk-parallel-item:first-child::after {align-self: flex-end;width: 50%;}#sk-container-id-12 div.sk-parallel-item:last-child::after {align-self: flex-start;width: 50%;}#sk-container-id-12 div.sk-parallel-item:only-child::after {width: 0;}#sk-container-id-12 div.sk-dashed-wrapped {border: 1px dashed gray;margin: 0 0.4em 0.5em 0.4em;box-sizing: border-box;padding-bottom: 0.4em;background-color: white;}#sk-container-id-12 div.sk-label label {font-family: monospace;font-weight: bold;display: inline-block;line-height: 1.2em;}#sk-container-id-12 div.sk-label-container {text-align: center;}#sk-container-id-12 div.sk-container {/* jupyter's `normalize.less` sets `[hidden] { display: none; }` but bootstrap.min.css set `[hidden] { display: none !important; }` so we also need the `!important` here to be able to override the default hidden behavior on the sphinx rendered scikit-learn.org. See: https://github.com/scikit-learn/scikit-learn/issues/21755 */display: inline-block !important;position: relative;}#sk-container-id-12 div.sk-text-repr-fallback {display: none;}</style><div id=\"sk-container-id-12\" class=\"sk-top-container\"><div class=\"sk-text-repr-fallback\"><pre>KMeans(n_clusters=3, random_state=23)</pre><b>In a Jupyter environment, please rerun this cell to show the HTML representation or trust the notebook. <br />On GitHub, the HTML representation is unable to render, please try loading this page with nbviewer.org.</b></div><div class=\"sk-container\" hidden><div class=\"sk-item\"><div class=\"sk-estimator sk-toggleable\"><input class=\"sk-toggleable__control sk-hidden--visually\" id=\"sk-estimator-id-12\" type=\"checkbox\" checked><label for=\"sk-estimator-id-12\" class=\"sk-toggleable__label sk-toggleable__label-arrow\">KMeans</label><div class=\"sk-toggleable__content\"><pre>KMeans(n_clusters=3, random_state=23)</pre></div></div></div></div></div>"
      ],
      "text/plain": [
       "KMeans(n_clusters=3, random_state=23)"
      ]
     },
     "execution_count": 353,
     "metadata": {},
     "output_type": "execute_result"
    }
   ],
   "source": [
    "model = KMeans(n_clusters=3, random_state=23)\n",
    "model.fit(donor_normalized)     "
   ]
  },
  {
   "cell_type": "code",
   "execution_count": 354,
   "metadata": {},
   "outputs": [
    {
     "data": {
      "text/html": [
       "<div>\n",
       "<style scoped>\n",
       "    .dataframe tbody tr th:only-of-type {\n",
       "        vertical-align: middle;\n",
       "    }\n",
       "\n",
       "    .dataframe tbody tr th {\n",
       "        vertical-align: top;\n",
       "    }\n",
       "\n",
       "    .dataframe thead th {\n",
       "        text-align: right;\n",
       "    }\n",
       "</style>\n",
       "<table border=\"1\" class=\"dataframe\">\n",
       "  <thead>\n",
       "    <tr style=\"text-align: right;\">\n",
       "      <th></th>\n",
       "      <th>id</th>\n",
       "      <th>Monetary</th>\n",
       "      <th>Recency</th>\n",
       "      <th>Frequency</th>\n",
       "      <th>Cluster</th>\n",
       "    </tr>\n",
       "  </thead>\n",
       "  <tbody>\n",
       "    <tr>\n",
       "      <th>0</th>\n",
       "      <td>10000</td>\n",
       "      <td>203.0</td>\n",
       "      <td>124</td>\n",
       "      <td>2</td>\n",
       "      <td>0</td>\n",
       "    </tr>\n",
       "    <tr>\n",
       "      <th>1</th>\n",
       "      <td>10001</td>\n",
       "      <td>1650.0</td>\n",
       "      <td>482</td>\n",
       "      <td>3</td>\n",
       "      <td>0</td>\n",
       "    </tr>\n",
       "    <tr>\n",
       "      <th>2</th>\n",
       "      <td>10015</td>\n",
       "      <td>300.0</td>\n",
       "      <td>1217</td>\n",
       "      <td>1</td>\n",
       "      <td>1</td>\n",
       "    </tr>\n",
       "    <tr>\n",
       "      <th>3</th>\n",
       "      <td>10019</td>\n",
       "      <td>500.0</td>\n",
       "      <td>846</td>\n",
       "      <td>1</td>\n",
       "      <td>1</td>\n",
       "    </tr>\n",
       "    <tr>\n",
       "      <th>4</th>\n",
       "      <td>10036</td>\n",
       "      <td>500.0</td>\n",
       "      <td>846</td>\n",
       "      <td>1</td>\n",
       "      <td>1</td>\n",
       "    </tr>\n",
       "    <tr>\n",
       "      <th>...</th>\n",
       "      <td>...</td>\n",
       "      <td>...</td>\n",
       "      <td>...</td>\n",
       "      <td>...</td>\n",
       "      <td>...</td>\n",
       "    </tr>\n",
       "    <tr>\n",
       "      <th>2518</th>\n",
       "      <td>9985</td>\n",
       "      <td>500.0</td>\n",
       "      <td>846</td>\n",
       "      <td>1</td>\n",
       "      <td>1</td>\n",
       "    </tr>\n",
       "    <tr>\n",
       "      <th>2519</th>\n",
       "      <td>9986</td>\n",
       "      <td>4430.9</td>\n",
       "      <td>93</td>\n",
       "      <td>6</td>\n",
       "      <td>0</td>\n",
       "    </tr>\n",
       "    <tr>\n",
       "      <th>2520</th>\n",
       "      <td>9987</td>\n",
       "      <td>740.0</td>\n",
       "      <td>117</td>\n",
       "      <td>5</td>\n",
       "      <td>0</td>\n",
       "    </tr>\n",
       "    <tr>\n",
       "      <th>2521</th>\n",
       "      <td>9988</td>\n",
       "      <td>500.0</td>\n",
       "      <td>118</td>\n",
       "      <td>1</td>\n",
       "      <td>1</td>\n",
       "    </tr>\n",
       "    <tr>\n",
       "      <th>2522</th>\n",
       "      <td>9997</td>\n",
       "      <td>1200.0</td>\n",
       "      <td>117</td>\n",
       "      <td>5</td>\n",
       "      <td>0</td>\n",
       "    </tr>\n",
       "  </tbody>\n",
       "</table>\n",
       "<p>2523 rows × 5 columns</p>\n",
       "</div>"
      ],
      "text/plain": [
       "         id  Monetary  Recency  Frequency  Cluster\n",
       "0     10000     203.0      124          2        0\n",
       "1     10001    1650.0      482          3        0\n",
       "2     10015     300.0     1217          1        1\n",
       "3     10019     500.0      846          1        1\n",
       "4     10036     500.0      846          1        1\n",
       "...     ...       ...      ...        ...      ...\n",
       "2518   9985     500.0      846          1        1\n",
       "2519   9986    4430.9       93          6        0\n",
       "2520   9987     740.0      117          5        0\n",
       "2521   9988     500.0      118          1        1\n",
       "2522   9997    1200.0      117          5        0\n",
       "\n",
       "[2523 rows x 5 columns]"
      ]
     },
     "execution_count": 354,
     "metadata": {},
     "output_type": "execute_result"
    }
   ],
   "source": [
    "donor_frequency[\"Cluster\"] = model.labels_\n",
    "donor_frequency"
   ]
  },
  {
   "cell_type": "markdown",
   "metadata": {},
   "source": [
    "#### Cluster Visualization"
   ]
  },
  {
   "cell_type": "code",
   "execution_count": 355,
   "metadata": {},
   "outputs": [
    {
     "data": {
      "text/html": [
       "<div>\n",
       "<style scoped>\n",
       "    .dataframe tbody tr th:only-of-type {\n",
       "        vertical-align: middle;\n",
       "    }\n",
       "\n",
       "    .dataframe tbody tr th {\n",
       "        vertical-align: top;\n",
       "    }\n",
       "\n",
       "    .dataframe thead th {\n",
       "        text-align: right;\n",
       "    }\n",
       "</style>\n",
       "<table border=\"1\" class=\"dataframe\">\n",
       "  <thead>\n",
       "    <tr style=\"text-align: right;\">\n",
       "      <th></th>\n",
       "      <th>Cluster</th>\n",
       "      <th>Count</th>\n",
       "      <th>Percentage</th>\n",
       "    </tr>\n",
       "  </thead>\n",
       "  <tbody>\n",
       "    <tr>\n",
       "      <th>0</th>\n",
       "      <td>0</td>\n",
       "      <td>2421</td>\n",
       "      <td>31.99</td>\n",
       "    </tr>\n",
       "    <tr>\n",
       "      <th>1</th>\n",
       "      <td>1</td>\n",
       "      <td>1842</td>\n",
       "      <td>24.34</td>\n",
       "    </tr>\n",
       "    <tr>\n",
       "      <th>2</th>\n",
       "      <td>2</td>\n",
       "      <td>3306</td>\n",
       "      <td>43.68</td>\n",
       "    </tr>\n",
       "  </tbody>\n",
       "</table>\n",
       "</div>"
      ],
      "text/plain": [
       "   Cluster  Count  Percentage\n",
       "0        0   2421       31.99\n",
       "1        1   1842       24.34\n",
       "2        2   3306       43.68"
      ]
     },
     "execution_count": 355,
     "metadata": {},
     "output_type": "execute_result"
    }
   ],
   "source": [
    "# Generate dataframe for cluster visualization\n",
    "normalized_df = pd.DataFrame(donor_normalized, columns=['Recency', 'Frequency', 'Monetary'])\n",
    "normalized_df['Cluster'] = model.labels_\n",
    "normalized_df['id'] = donor_frequency.index\n",
    "\n",
    "normalized_df_melt = pd.melt(normalized_df.reset_index(),\n",
    "                            id_vars=[\"id\", \"Cluster\"],\n",
    "                            value_vars=['Recency','Frequency','Monetary'],\n",
    "                            var_name='Attribute',\n",
    "                            value_name='Value')\n",
    "\n",
    "cluster_viz = normalized_df_melt.groupby('Cluster').agg({'id': lambda x: len(x)}).reset_index()\n",
    "\n",
    "cluster_viz.rename(columns={'id': 'Count'}, inplace=True)\n",
    "cluster_viz['Percentage'] = (cluster_viz['Count'] / cluster_viz['Count'].sum()) * 100\n",
    "cluster_viz['Percentage'] = cluster_viz['Percentage'].round(2)\n",
    "cluster_viz"
   ]
  },
  {
   "cell_type": "code",
   "execution_count": 356,
   "metadata": {},
   "outputs": [
    {
     "data": {
      "application/vnd.plotly.v1+json": {
       "config": {
        "plotlyServerURL": "https://plot.ly"
       },
       "data": [
        {
         "branchvalues": "total",
         "domain": {
          "x": [
           0,
           1
          ],
          "y": [
           0,
           1
          ]
         },
         "hovertemplate": "labels=%{label}<br>Count=%{value}<br>parent=%{parent}<br>id=%{id}<extra></extra>",
         "ids": [
          "0",
          "1",
          "2"
         ],
         "labels": [
          "0",
          "1",
          "2"
         ],
         "name": "",
         "parents": [
          "",
          "",
          ""
         ],
         "textinfo": "label+text+value+percent root",
         "type": "treemap",
         "values": [
          2421,
          1842,
          3306
         ]
        }
       ],
       "layout": {
        "height": 400,
        "legend": {
         "tracegroupgap": 0
        },
        "margin": {
         "b": 25,
         "l": 25,
         "r": 25,
         "t": 50
        },
        "template": {
         "data": {
          "bar": [
           {
            "error_x": {
             "color": "#2a3f5f"
            },
            "error_y": {
             "color": "#2a3f5f"
            },
            "marker": {
             "line": {
              "color": "#E5ECF6",
              "width": 0.5
             },
             "pattern": {
              "fillmode": "overlay",
              "size": 10,
              "solidity": 0.2
             }
            },
            "type": "bar"
           }
          ],
          "barpolar": [
           {
            "marker": {
             "line": {
              "color": "#E5ECF6",
              "width": 0.5
             },
             "pattern": {
              "fillmode": "overlay",
              "size": 10,
              "solidity": 0.2
             }
            },
            "type": "barpolar"
           }
          ],
          "carpet": [
           {
            "aaxis": {
             "endlinecolor": "#2a3f5f",
             "gridcolor": "white",
             "linecolor": "white",
             "minorgridcolor": "white",
             "startlinecolor": "#2a3f5f"
            },
            "baxis": {
             "endlinecolor": "#2a3f5f",
             "gridcolor": "white",
             "linecolor": "white",
             "minorgridcolor": "white",
             "startlinecolor": "#2a3f5f"
            },
            "type": "carpet"
           }
          ],
          "choropleth": [
           {
            "colorbar": {
             "outlinewidth": 0,
             "ticks": ""
            },
            "type": "choropleth"
           }
          ],
          "contour": [
           {
            "colorbar": {
             "outlinewidth": 0,
             "ticks": ""
            },
            "colorscale": [
             [
              0,
              "#0d0887"
             ],
             [
              0.1111111111111111,
              "#46039f"
             ],
             [
              0.2222222222222222,
              "#7201a8"
             ],
             [
              0.3333333333333333,
              "#9c179e"
             ],
             [
              0.4444444444444444,
              "#bd3786"
             ],
             [
              0.5555555555555556,
              "#d8576b"
             ],
             [
              0.6666666666666666,
              "#ed7953"
             ],
             [
              0.7777777777777778,
              "#fb9f3a"
             ],
             [
              0.8888888888888888,
              "#fdca26"
             ],
             [
              1,
              "#f0f921"
             ]
            ],
            "type": "contour"
           }
          ],
          "contourcarpet": [
           {
            "colorbar": {
             "outlinewidth": 0,
             "ticks": ""
            },
            "type": "contourcarpet"
           }
          ],
          "heatmap": [
           {
            "colorbar": {
             "outlinewidth": 0,
             "ticks": ""
            },
            "colorscale": [
             [
              0,
              "#0d0887"
             ],
             [
              0.1111111111111111,
              "#46039f"
             ],
             [
              0.2222222222222222,
              "#7201a8"
             ],
             [
              0.3333333333333333,
              "#9c179e"
             ],
             [
              0.4444444444444444,
              "#bd3786"
             ],
             [
              0.5555555555555556,
              "#d8576b"
             ],
             [
              0.6666666666666666,
              "#ed7953"
             ],
             [
              0.7777777777777778,
              "#fb9f3a"
             ],
             [
              0.8888888888888888,
              "#fdca26"
             ],
             [
              1,
              "#f0f921"
             ]
            ],
            "type": "heatmap"
           }
          ],
          "heatmapgl": [
           {
            "colorbar": {
             "outlinewidth": 0,
             "ticks": ""
            },
            "colorscale": [
             [
              0,
              "#0d0887"
             ],
             [
              0.1111111111111111,
              "#46039f"
             ],
             [
              0.2222222222222222,
              "#7201a8"
             ],
             [
              0.3333333333333333,
              "#9c179e"
             ],
             [
              0.4444444444444444,
              "#bd3786"
             ],
             [
              0.5555555555555556,
              "#d8576b"
             ],
             [
              0.6666666666666666,
              "#ed7953"
             ],
             [
              0.7777777777777778,
              "#fb9f3a"
             ],
             [
              0.8888888888888888,
              "#fdca26"
             ],
             [
              1,
              "#f0f921"
             ]
            ],
            "type": "heatmapgl"
           }
          ],
          "histogram": [
           {
            "marker": {
             "pattern": {
              "fillmode": "overlay",
              "size": 10,
              "solidity": 0.2
             }
            },
            "type": "histogram"
           }
          ],
          "histogram2d": [
           {
            "colorbar": {
             "outlinewidth": 0,
             "ticks": ""
            },
            "colorscale": [
             [
              0,
              "#0d0887"
             ],
             [
              0.1111111111111111,
              "#46039f"
             ],
             [
              0.2222222222222222,
              "#7201a8"
             ],
             [
              0.3333333333333333,
              "#9c179e"
             ],
             [
              0.4444444444444444,
              "#bd3786"
             ],
             [
              0.5555555555555556,
              "#d8576b"
             ],
             [
              0.6666666666666666,
              "#ed7953"
             ],
             [
              0.7777777777777778,
              "#fb9f3a"
             ],
             [
              0.8888888888888888,
              "#fdca26"
             ],
             [
              1,
              "#f0f921"
             ]
            ],
            "type": "histogram2d"
           }
          ],
          "histogram2dcontour": [
           {
            "colorbar": {
             "outlinewidth": 0,
             "ticks": ""
            },
            "colorscale": [
             [
              0,
              "#0d0887"
             ],
             [
              0.1111111111111111,
              "#46039f"
             ],
             [
              0.2222222222222222,
              "#7201a8"
             ],
             [
              0.3333333333333333,
              "#9c179e"
             ],
             [
              0.4444444444444444,
              "#bd3786"
             ],
             [
              0.5555555555555556,
              "#d8576b"
             ],
             [
              0.6666666666666666,
              "#ed7953"
             ],
             [
              0.7777777777777778,
              "#fb9f3a"
             ],
             [
              0.8888888888888888,
              "#fdca26"
             ],
             [
              1,
              "#f0f921"
             ]
            ],
            "type": "histogram2dcontour"
           }
          ],
          "mesh3d": [
           {
            "colorbar": {
             "outlinewidth": 0,
             "ticks": ""
            },
            "type": "mesh3d"
           }
          ],
          "parcoords": [
           {
            "line": {
             "colorbar": {
              "outlinewidth": 0,
              "ticks": ""
             }
            },
            "type": "parcoords"
           }
          ],
          "pie": [
           {
            "automargin": true,
            "type": "pie"
           }
          ],
          "scatter": [
           {
            "fillpattern": {
             "fillmode": "overlay",
             "size": 10,
             "solidity": 0.2
            },
            "type": "scatter"
           }
          ],
          "scatter3d": [
           {
            "line": {
             "colorbar": {
              "outlinewidth": 0,
              "ticks": ""
             }
            },
            "marker": {
             "colorbar": {
              "outlinewidth": 0,
              "ticks": ""
             }
            },
            "type": "scatter3d"
           }
          ],
          "scattercarpet": [
           {
            "marker": {
             "colorbar": {
              "outlinewidth": 0,
              "ticks": ""
             }
            },
            "type": "scattercarpet"
           }
          ],
          "scattergeo": [
           {
            "marker": {
             "colorbar": {
              "outlinewidth": 0,
              "ticks": ""
             }
            },
            "type": "scattergeo"
           }
          ],
          "scattergl": [
           {
            "marker": {
             "colorbar": {
              "outlinewidth": 0,
              "ticks": ""
             }
            },
            "type": "scattergl"
           }
          ],
          "scattermapbox": [
           {
            "marker": {
             "colorbar": {
              "outlinewidth": 0,
              "ticks": ""
             }
            },
            "type": "scattermapbox"
           }
          ],
          "scatterpolar": [
           {
            "marker": {
             "colorbar": {
              "outlinewidth": 0,
              "ticks": ""
             }
            },
            "type": "scatterpolar"
           }
          ],
          "scatterpolargl": [
           {
            "marker": {
             "colorbar": {
              "outlinewidth": 0,
              "ticks": ""
             }
            },
            "type": "scatterpolargl"
           }
          ],
          "scatterternary": [
           {
            "marker": {
             "colorbar": {
              "outlinewidth": 0,
              "ticks": ""
             }
            },
            "type": "scatterternary"
           }
          ],
          "surface": [
           {
            "colorbar": {
             "outlinewidth": 0,
             "ticks": ""
            },
            "colorscale": [
             [
              0,
              "#0d0887"
             ],
             [
              0.1111111111111111,
              "#46039f"
             ],
             [
              0.2222222222222222,
              "#7201a8"
             ],
             [
              0.3333333333333333,
              "#9c179e"
             ],
             [
              0.4444444444444444,
              "#bd3786"
             ],
             [
              0.5555555555555556,
              "#d8576b"
             ],
             [
              0.6666666666666666,
              "#ed7953"
             ],
             [
              0.7777777777777778,
              "#fb9f3a"
             ],
             [
              0.8888888888888888,
              "#fdca26"
             ],
             [
              1,
              "#f0f921"
             ]
            ],
            "type": "surface"
           }
          ],
          "table": [
           {
            "cells": {
             "fill": {
              "color": "#EBF0F8"
             },
             "line": {
              "color": "white"
             }
            },
            "header": {
             "fill": {
              "color": "#C8D4E3"
             },
             "line": {
              "color": "white"
             }
            },
            "type": "table"
           }
          ]
         },
         "layout": {
          "annotationdefaults": {
           "arrowcolor": "#2a3f5f",
           "arrowhead": 0,
           "arrowwidth": 1
          },
          "autotypenumbers": "strict",
          "coloraxis": {
           "colorbar": {
            "outlinewidth": 0,
            "ticks": ""
           }
          },
          "colorscale": {
           "diverging": [
            [
             0,
             "#8e0152"
            ],
            [
             0.1,
             "#c51b7d"
            ],
            [
             0.2,
             "#de77ae"
            ],
            [
             0.3,
             "#f1b6da"
            ],
            [
             0.4,
             "#fde0ef"
            ],
            [
             0.5,
             "#f7f7f7"
            ],
            [
             0.6,
             "#e6f5d0"
            ],
            [
             0.7,
             "#b8e186"
            ],
            [
             0.8,
             "#7fbc41"
            ],
            [
             0.9,
             "#4d9221"
            ],
            [
             1,
             "#276419"
            ]
           ],
           "sequential": [
            [
             0,
             "#0d0887"
            ],
            [
             0.1111111111111111,
             "#46039f"
            ],
            [
             0.2222222222222222,
             "#7201a8"
            ],
            [
             0.3333333333333333,
             "#9c179e"
            ],
            [
             0.4444444444444444,
             "#bd3786"
            ],
            [
             0.5555555555555556,
             "#d8576b"
            ],
            [
             0.6666666666666666,
             "#ed7953"
            ],
            [
             0.7777777777777778,
             "#fb9f3a"
            ],
            [
             0.8888888888888888,
             "#fdca26"
            ],
            [
             1,
             "#f0f921"
            ]
           ],
           "sequentialminus": [
            [
             0,
             "#0d0887"
            ],
            [
             0.1111111111111111,
             "#46039f"
            ],
            [
             0.2222222222222222,
             "#7201a8"
            ],
            [
             0.3333333333333333,
             "#9c179e"
            ],
            [
             0.4444444444444444,
             "#bd3786"
            ],
            [
             0.5555555555555556,
             "#d8576b"
            ],
            [
             0.6666666666666666,
             "#ed7953"
            ],
            [
             0.7777777777777778,
             "#fb9f3a"
            ],
            [
             0.8888888888888888,
             "#fdca26"
            ],
            [
             1,
             "#f0f921"
            ]
           ]
          },
          "colorway": [
           "#636efa",
           "#EF553B",
           "#00cc96",
           "#ab63fa",
           "#FFA15A",
           "#19d3f3",
           "#FF6692",
           "#B6E880",
           "#FF97FF",
           "#FECB52"
          ],
          "font": {
           "color": "#2a3f5f"
          },
          "geo": {
           "bgcolor": "white",
           "lakecolor": "white",
           "landcolor": "#E5ECF6",
           "showlakes": true,
           "showland": true,
           "subunitcolor": "white"
          },
          "hoverlabel": {
           "align": "left"
          },
          "hovermode": "closest",
          "mapbox": {
           "style": "light"
          },
          "paper_bgcolor": "white",
          "plot_bgcolor": "#E5ECF6",
          "polar": {
           "angularaxis": {
            "gridcolor": "white",
            "linecolor": "white",
            "ticks": ""
           },
           "bgcolor": "#E5ECF6",
           "radialaxis": {
            "gridcolor": "white",
            "linecolor": "white",
            "ticks": ""
           }
          },
          "scene": {
           "xaxis": {
            "backgroundcolor": "#E5ECF6",
            "gridcolor": "white",
            "gridwidth": 2,
            "linecolor": "white",
            "showbackground": true,
            "ticks": "",
            "zerolinecolor": "white"
           },
           "yaxis": {
            "backgroundcolor": "#E5ECF6",
            "gridcolor": "white",
            "gridwidth": 2,
            "linecolor": "white",
            "showbackground": true,
            "ticks": "",
            "zerolinecolor": "white"
           },
           "zaxis": {
            "backgroundcolor": "#E5ECF6",
            "gridcolor": "white",
            "gridwidth": 2,
            "linecolor": "white",
            "showbackground": true,
            "ticks": "",
            "zerolinecolor": "white"
           }
          },
          "shapedefaults": {
           "line": {
            "color": "#2a3f5f"
           }
          },
          "ternary": {
           "aaxis": {
            "gridcolor": "white",
            "linecolor": "white",
            "ticks": ""
           },
           "baxis": {
            "gridcolor": "white",
            "linecolor": "white",
            "ticks": ""
           },
           "bgcolor": "#E5ECF6",
           "caxis": {
            "gridcolor": "white",
            "linecolor": "white",
            "ticks": ""
           }
          },
          "title": {
           "x": 0.05
          },
          "xaxis": {
           "automargin": true,
           "gridcolor": "white",
           "linecolor": "white",
           "ticks": "",
           "title": {
            "standoff": 15
           },
           "zerolinecolor": "white",
           "zerolinewidth": 2
          },
          "yaxis": {
           "automargin": true,
           "gridcolor": "white",
           "linecolor": "white",
           "ticks": "",
           "title": {
            "standoff": 15
           },
           "zerolinecolor": "white",
           "zerolinewidth": 2
          }
         }
        },
        "title": {
         "text": "Distribution of Cluster"
        },
        "treemapcolorway": [
         "#bad0af",
         "#d5e0cf",
         "#f1f1f1",
         "#f1d4d4"
        ],
        "width": 800
       }
      }
     },
     "metadata": {},
     "output_type": "display_data"
    }
   ],
   "source": [
    "colors=['#bad0af','#d5e0cf','#f1f1f1','#f1d4d4']\n",
    "fig = px.treemap(cluster_viz, path=['Cluster'],values='Count', \n",
    "                 width=800, height=400,\n",
    "                 title=\"Distribution of Cluster\")\n",
    "\n",
    "fig.update_layout(\n",
    "    treemapcolorway = colors, #defines the colors in the treemap\n",
    "    margin = dict(t=50, l=25, r=25, b=25))\n",
    "\n",
    "fig.data[0].textinfo = 'label+text+value+percent root'\n",
    "fig.show()"
   ]
  },
  {
   "cell_type": "code",
   "execution_count": 357,
   "metadata": {},
   "outputs": [
    {
     "data": {
      "text/plain": [
       "<Axes: xlabel='Attribute', ylabel='Value'>"
      ]
     },
     "execution_count": 357,
     "metadata": {},
     "output_type": "execute_result"
    },
    {
     "data": {
      "image/png": "[encoded data removed]",
      "text/plain": [
       "<Figure size 640x480 with 1 Axes>"
      ]
     },
     "metadata": {},
     "output_type": "display_data"
    }
   ],
   "source": [
    "# Visualize it\n",
    "sns.lineplot(data = normalized_df_melt, x = 'Attribute', y = 'Value', hue='Cluster')"
   ]
  },
  {
   "cell_type": "markdown",
   "metadata": {},
   "source": [
    "| Cluster | % | Summary | Suggested Labels |\n",
    "| --- | --- | --- | --- |\n",
    "| 0 | 31.99 | Donors who donate often, donate a lot, and donate recently | Loyal donors |\n",
    "| 1 | 24.34 | These are occasional or one-time donors, maybe worth re-engaging  | New donors |\n",
    "| 2 | 43.68 | Donors who used to donate a long time ago and donate just a little | Lost donors |"
   ]
  },
  {
   "cell_type": "markdown",
   "metadata": {},
   "source": [
    "### 4. Calculate RFM Score and Identify Donor Groups"
   ]
  },
  {
   "cell_type": "code",
   "execution_count": 358,
   "metadata": {},
   "outputs": [],
   "source": [
    "quantiles = donor_frequency.quantile(q=[0.25,0.5,0.75], numeric_only=True)\n",
    "\n",
    "def calScore(x, p, d):\n",
    "    if x <= d[p][0.25]:\n",
    "        return 4 if p == 'Recency' else 1\n",
    "    elif x <= d[p][0.50]:\n",
    "        return 3 if p == 'Recency' else 2\n",
    "    elif x <= d[p][0.75]: \n",
    "        return 2 if p == 'Recency' else 3\n",
    "    else:\n",
    "        return 1 if p == 'Recency' else 4"
   ]
  },
  {
   "cell_type": "code",
   "execution_count": 359,
   "metadata": {},
   "outputs": [],
   "source": [
    "donor_frequency['R'] = donor_frequency['Recency'].apply(calScore, args=('Recency',quantiles,))\n",
    "donor_frequency['F'] = donor_frequency['Frequency'].apply(calScore, args=('Frequency',quantiles,))\n",
    "donor_frequency['M'] = donor_frequency['Monetary'].apply(calScore, args=('Monetary',quantiles,))"
   ]
  },
  {
   "cell_type": "code",
   "execution_count": 360,
   "metadata": {},
   "outputs": [],
   "source": [
    "# Concat RFM quartile values to create RFM Segments\n",
    "def join_rfm(x): \n",
    "    return str(x['R']) + str(x['F']) + str(x['M'])\n",
    "donor_frequency['RFM_Segment'] = donor_frequency.apply(join_rfm, axis=1)\n",
    "# Calculate RFM_Score\n",
    "donor_frequency['RFM_Score'] = donor_frequency[['R','F','M']].sum(axis=1)"
   ]
  },
  {
   "cell_type": "code",
   "execution_count": 361,
   "metadata": {},
   "outputs": [
    {
     "data": {
      "text/plain": [
       "array(['433', '444', '313', '314', '344', '312', '311', '432', '443',\n",
       "       '442', '434', '331', '334', '333', '412', '111', '144', '332',\n",
       "       '134', '411', '413', '112', '414', '113', '431', '211', '212',\n",
       "       '133', '131', '231', '232', '114', '343', '243', '233', '342',\n",
       "       '244', '234', '143', '132', '213', '242', '214', '142', '441',\n",
       "       '341'], dtype=object)"
      ]
     },
     "execution_count": 361,
     "metadata": {},
     "output_type": "execute_result"
    }
   ],
   "source": [
    "donor_frequency['RFM_Segment'].unique()"
   ]
  },
  {
   "cell_type": "code",
   "execution_count": 362,
   "metadata": {},
   "outputs": [
    {
     "data": {
      "text/plain": [
       "array([10, 12,  7,  8, 11,  6,  5,  9,  3,  4])"
      ]
     },
     "execution_count": 362,
     "metadata": {},
     "output_type": "execute_result"
    }
   ],
   "source": [
    "donor_frequency['RFM_Score'].unique()"
   ]
  },
  {
   "cell_type": "markdown",
   "metadata": {},
   "source": [
    "Definition:\n",
    "\n",
    "- *Star Donors*: Highly engaged donors who give frequently, generously, and recently (top supporters).  \n",
    "- *Committed Contributors*: Active and recent donors with good potential to become loyal with more engagement.  \n",
    "- *Emerging Partners*: Recent and new donors, but haven't spend much. \n",
    "- *Valued Past Supporters*: Previously active donors who haven't given recently and may need re-engagement.  \n",
    "- *Inactive Donors*: Low-value donors with minimal recent activity — currently disengaged.  "
   ]
  },
  {
   "cell_type": "code",
   "execution_count": 372,
   "metadata": {},
   "outputs": [],
   "source": [
    "def rfm_segment(row):\n",
    "    score = row['RFM_Score']\n",
    "    if score <= 4:\n",
    "        return 'Inactive Donors'\n",
    "    elif score <= 6:\n",
    "        # if row['R'] == 3 or row['R'] == 3:\n",
    "        #     return \"Emerging Partners\"\n",
    "        # elif row['R'] == 1:\n",
    "        #     return \"Inactive Donors\"\n",
    "        # else:\n",
    "        return 'At Risk'\n",
    "    elif score <= 8:\n",
    "        # if row[\"R\"] == 2:\n",
    "        #     return \"At Risk\"\n",
    "        # else:\n",
    "        return 'Emerging Partners'\n",
    "    elif score <= 10:\n",
    "        # if row[\"R\"] == 2:\n",
    "        #     return \"Emerging Partners\"\n",
    "        # else:\n",
    "        return 'Commited Contributors'\n",
    "    else:\n",
    "        return 'Star Donors'\n",
    "donor_frequency['Segment'] = donor_frequency.apply(rfm_segment, axis=1)"
   ]
  },
  {
   "cell_type": "code",
   "execution_count": 374,
   "metadata": {},
   "outputs": [],
   "source": [
    "# Save result for Tableau Dashboard\n",
    "donor_frequency.to_excel('output.xlsx', index=False)"
   ]
  }
 ],
 "metadata": {
  "kernelspec": {
   "display_name": "Python 3",
   "language": "python",
   "name": "python3"
  },
  "language_info": {
   "codemirror_mode": {
    "name": "ipython",
    "version": 3
   },
   "file_extension": ".py",
   "mimetype": "text/x-python",
   "name": "python",
   "nbconvert_exporter": "python",
   "pygments_lexer": "ipython3",
   "version": "3.9.6"
  },
  "orig_nbformat": 4
 },
 "nbformat": 4,
 "nbformat_minor": 2
}
